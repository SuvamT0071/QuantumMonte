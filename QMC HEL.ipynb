{
 "cells": [
  {
   "cell_type": "code",
   "execution_count": 93,
   "metadata": {},
   "outputs": [],
   "source": [
    "#load the required modules\n",
    "import matplotlib.pyplot as plt\n",
    "import numpy as np\n",
    "from tqdm import tqdm\n",
    "import warnings"
   ]
  },
  {
   "cell_type": "code",
   "execution_count": 94,
   "metadata": {},
   "outputs": [],
   "source": [
    "np.random.seed(42)"
   ]
  },
  {
   "cell_type": "code",
   "execution_count": 95,
   "metadata": {},
   "outputs": [],
   "source": [
    "def Helium_GS(r, alpha=2):\n",
    "    \"\"\"\n",
    "    This function defines the ground state trial\n",
    "    wavefunction for Helium atom\n",
    "    \n",
    "    Parameters:\n",
    "    - r: Takes in a 2X3 matrix for position of the 2 electrons\n",
    "    - alpha: Optimizing parameter (Default = 2)\n",
    "    \n",
    "    Returns: \n",
    "    The trial wavefunction for the Helium atom\n",
    "    \"\"\"\n",
    "    r_comb = 0.0\n",
    "    for i in range(r.shape[0]):\n",
    "        r_electron = np.linalg.norm(r[i])\n",
    "        r_comb += r_electron\n",
    "    return np.exp(-alpha * r_comb)"
   ]
  },
  {
   "cell_type": "code",
   "execution_count": 96,
   "metadata": {},
   "outputs": [],
   "source": [
    "def He_GSPDF(r, alpha=2):\n",
    "    \"\"\"\n",
    "    This function defines the ground state trial\n",
    "    Probability density function for Helium atom\n",
    "    \n",
    "    Parameters:\n",
    "    - r: Takes in a 2X3 matrix for position of the 2 electrons\n",
    "    - alpha: Optimizing parameter (Default = 2)\n",
    "    \n",
    "    Returns: \n",
    "    The trial PDF for the Helium atom\n",
    "    \"\"\"\n",
    "    wave_func = Helium_GS(r, alpha)\n",
    "    return np.abs(wave_func)**2"
   ]
  },
  {
   "cell_type": "markdown",
   "metadata": {},
   "source": [
    "The central finite difference approximation of the laplacian:\n",
    "\n",
    "$\\frac{\\partial^2 \\psi}{\\partial x^2} \\approx \\frac{\\psi(x+h)+\\psi(x-h)-2\\psi(x)}{h^2}$"
   ]
  },
  {
   "cell_type": "markdown",
   "metadata": {},
   "source": [
    "E_{\\text{loc}}(\\mathbf{r}) = \\frac{1}{\\psi(\\mathbf{r})} \\hat{H} \\psi(\\mathbf{r}) = -\\frac{1}{2} \\frac{\\nabla^2 \\psi(\\mathbf{r})}{\\psi(\\mathbf{r})} + V(\\mathbf{r})\n"
   ]
  },
  {
   "cell_type": "code",
   "execution_count": 97,
   "metadata": {},
   "outputs": [],
   "source": [
    "def He_loc_en(r, alpha=2):\n",
    "    \"\"\"\n",
    "    This function defines the ground state Local energy\n",
    "    for Helium atom\n",
    "    \n",
    "    Parameters:\n",
    "    - r: Takes in a 2X3 matrix for position of the 2 electrons\n",
    "    - alpha: Optimizing parameter (Default = 2)\n",
    "    \n",
    "    Returns: \n",
    "    The Local energy for the Helium atom\n",
    "    \"\"\"\n",
    "    GS_zero = Helium_GS(r, alpha)\n",
    "    step = 1e-5\n",
    "    KE = 0.0\n",
    "    \n",
    "    #Performing central difference method for calculation of laplacian\n",
    "    for i in range(r.shape[0]):\n",
    "        for j in range(r.shape[1]):\n",
    "            #forward jump\n",
    "            r_plus = np.copy(r)\n",
    "            r_plus[i][j] += step\n",
    "            GS_plus = Helium_GS(r_plus, alpha)\n",
    "            #backward jump\n",
    "            r_minus = np.copy(r)\n",
    "            r_minus[i][j] -= step\n",
    "            GS_minus = Helium_GS(r_minus, alpha)\n",
    "\n",
    "            KE += (GS_plus + GS_minus - 2 * GS_zero) / step**2\n",
    "\n",
    "    kinetic = -0.5 * KE / GS_zero\n",
    "\n",
    "    #Accounting for the electron-nucleus interaction\n",
    "    PE1 = 0.0\n",
    "    for i in range(r.shape[0]):\n",
    "        r_electron = np.linalg.norm(r[i])\n",
    "        PE1 += -2.0 / r_electron\n",
    "\n",
    "    #Accounting for the electron-electron repulsion\n",
    "    r12 = np.linalg.norm(r[0] - r[1])\n",
    "    if r12 != 0:\n",
    "        PE2 = 1/r12\n",
    "    else:\n",
    "        PE2 = 0\n",
    "\n",
    "    potential = PE1 + PE2\n",
    "    local_energy = kinetic + potential\n",
    "    return local_energy"
   ]
  },
  {
   "cell_type": "code",
   "execution_count": 98,
   "metadata": {},
   "outputs": [],
   "source": [
    "def Helium_VMC(r, step, samples=10000, alpha=2):\n",
    "    \"\"\"\n",
    "    This function performs Variational Monte Carlo\n",
    "    method for Helium atom\n",
    "    \n",
    "    Parameters:\n",
    "    - r: Takes in a 2X3 matrix for position of the 2 electrons\n",
    "    - step: step size for the movement of MH samples\n",
    "    - samples: enter the number of VMC sweeps you would like to perform\n",
    "               (By default: 10000)\n",
    "    - alpha: Optimizing parameter (Default = 2)\n",
    "    \n",
    "    Returns: \n",
    "    The saved positions and saved energies respectively\n",
    "    \"\"\"\n",
    "    position_saved = []\n",
    "    energy_saved = []\n",
    "\n",
    "    for n in range(samples):\n",
    "        q = np.random.rand(r.shape[0], r.shape[1])\n",
    "        r_new = r + step * (q - 0.5) #for symmetry purpose\n",
    "        P_old = He_GSPDF(r, alpha)\n",
    "        P_new = He_GSPDF(r_new, alpha)\n",
    "        ratio = P_new / (P_old + 1e-10)\n",
    "\n",
    "        s = np.random.rand()\n",
    "        if ratio > s:\n",
    "            r = r_new\n",
    "\n",
    "        position_saved.append(r.copy())\n",
    "        energy_saved.append(He_loc_en(r, alpha))\n",
    "\n",
    "    return position_saved, energy_saved"
   ]
  },
  {
   "cell_type": "code",
   "execution_count": 99,
   "metadata": {},
   "outputs": [],
   "source": [
    "def Helium_alpha_opt(alpha_list, r, step, samples=10000):\n",
    "    \"\"\"\n",
    "    This function optimizes alpha by performing \n",
    "    Variational Monte Carlo method on Helium atom\n",
    "    \n",
    "    Parameters:\n",
    "    - alpha_list: Takes in a list of alpha values for which VMC will be performed\n",
    "    - r: Takes in a 2X3 matrix for position of the 2 electrons\n",
    "    - step: step size for the movement of MH samples\n",
    "    - samples: enter the number of VMC sweeps you would like to perform\n",
    "               (By default: 10000)\n",
    "    \n",
    "    Returns: \n",
    "    The saved positions and saved energies respectively\n",
    "    \"\"\"\n",
    "    saved_energies = []\n",
    "    variance = []\n",
    "    mean_energies = []\n",
    "\n",
    "    for a in tqdm(alpha_list, unit='alpha', desc='Optimizing alpha'):\n",
    "        _, energies = Helium_VMC(r, step, samples, a)\n",
    "        mean_e = np.mean(energies)\n",
    "        saved_energies.append(mean_e)\n",
    "        variance.append(np.var(energies))\n",
    "        mean_energies.append(mean_e)\n",
    "\n",
    "    optimal_alpha = alpha_list[np.argmin(saved_energies)]\n",
    "    return saved_energies, optimal_alpha, variance, mean_energies"
   ]
  },
  {
   "cell_type": "code",
   "execution_count": 110,
   "metadata": {},
   "outputs": [
    {
     "name": "stderr",
     "output_type": "stream",
     "text": [
      "Optimizing alpha: 100%|██████████| 10/10 [59:51<00:00, 359.15s/alpha]\n"
     ]
    }
   ],
   "source": [
    "alpha_range = np.linspace(1, 2, 10)\n",
    "pos_initial = np.random.rand(2, 3)\n",
    "energies, optimal_alpha, variance, mean_energy = Helium_alpha_opt(alpha_range, pos_initial, step=0.15, samples=2000000)"
   ]
  },
  {
   "cell_type": "code",
   "execution_count": 111,
   "metadata": {},
   "outputs": [
    {
     "name": "stderr",
     "output_type": "stream",
     "text": [
      "C:\\Users\\profs\\AppData\\Local\\Temp\\ipykernel_12388\\1984825352.py:2: UserWarning: linestyle is redundantly defined by the 'linestyle' keyword argument and the fmt string \"o-\" (-> linestyle='-'). The keyword argument will take precedence.\n",
      "  plt.plot(alpha_range, mean_energy, 'o-', label='Mean Energy', linestyle = '--', color='k')\n"
     ]
    },
    {
     "data": {
      "image/png": "[encoded data removed]",
      "text/plain": [
       "<Figure size 800x500 with 1 Axes>"
      ]
     },
     "metadata": {},
     "output_type": "display_data"
    }
   ],
   "source": [
    "\n",
    "plt.figure(figsize=(8, 5))\n",
    "plt.plot(alpha_range, mean_energy, 'o-', label='Mean Energy', linestyle = '--', color='k')\n",
    "plt.plot(alpha_range, alpha_range**2-4*alpha_range+(5/8)*alpha_range, linestyle = '-.')\n",
    "plt.axvline(optimal_alpha, color='r', linestyle='--', label=f'Optimal alpha = {optimal_alpha:.3f}')\n",
    "plt.xlabel(r'$\\alpha$')\n",
    "plt.ylabel('Energy')\n",
    "plt.title('Alpha Optimization for Helium Atom (VMC)')\n",
    "plt.legend()\n",
    "plt.grid(True)\n",
    "plt.ylim(-3,-2.2)\n",
    "plt.show()\n"
   ]
  },
  {
   "cell_type": "code",
   "execution_count": 112,
   "metadata": {},
   "outputs": [
    {
     "data": {
      "text/latex": [
       "$\\displaystyle \\alpha \\quad \\quad \\quad \\quad \\langle H \\rangle \\quad \\quad \\quad \\quad \\quad \\quad  \\sigma^2$"
      ],
      "text/plain": [
       "<IPython.core.display.Math object>"
      ]
     },
     "metadata": {},
     "output_type": "display_data"
    },
    {
     "name": "stdout",
     "output_type": "stream",
     "text": [
      "1.0\t-2.3502\t \t1.7425\n",
      "1.1111\t-2.5078\t \t1.6943\n",
      "1.2222\t-2.6194\t \t1.536\n",
      "1.3333\t-2.7284\t \t1.4544\n",
      "1.4444\t-2.7807\t \t1.2014\n",
      "1.5556\t-2.8176\t \t0.9874\n",
      "1.6667\t-2.8385\t \t0.9433\n",
      "1.7778\t-2.8373\t \t0.8037\n",
      "1.8889\t-2.8047\t \t0.8116\n",
      "2.0\t-2.7556\t \t1.0703\n"
     ]
    }
   ],
   "source": [
    "from IPython.display import display, Math\n",
    "\n",
    "display(Math(r\"\\alpha \\quad \\quad \\quad \\quad \\langle H \\rangle \\quad \\quad \\quad \\quad \\quad \\quad  \\sigma^2\"))\n",
    "\n",
    "for i in range(len(alpha_range)):\n",
    "    print(f\"{round(alpha_range[i], 4)}\\t{round(mean_energy[i], 4)}\\t \\t{round(variance[i], 4)}\")"
   ]
  }
 ],
 "metadata": {
  "kernelspec": {
   "display_name": "Python 3",
   "language": "python",
   "name": "python3"
  },
  "language_info": {
   "codemirror_mode": {
    "name": "ipython",
    "version": 3
   },
   "file_extension": ".py",
   "mimetype": "text/x-python",
   "name": "python",
   "nbconvert_exporter": "python",
   "pygments_lexer": "ipython3",
   "version": "3.12.9"
  }
 },
 "nbformat": 4,
 "nbformat_minor": 2
}
