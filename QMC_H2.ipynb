{
 "cells": [
  {
   "cell_type": "code",
   "execution_count": 42,
   "id": "c3b93813",
   "metadata": {},
   "outputs": [],
   "source": [
    "#load the required modules\n",
    "import matplotlib.pyplot as plt\n",
    "import numpy as np\n",
    "from tqdm import tqdm\n",
    "from numba import njit, prange\n",
    "import warnings\n",
    "import plotly.graph_objects as go\n",
    "import plotly.subplots as sp"
   ]
  },
  {
   "cell_type": "code",
   "execution_count": 43,
   "id": "861c6732",
   "metadata": {},
   "outputs": [],
   "source": [
    "np.random.seed(43)"
   ]
  },
  {
   "cell_type": "code",
   "execution_count": 44,
   "id": "a209712c",
   "metadata": {},
   "outputs": [],
   "source": [
    "@njit(fastmath=True)\n",
    "def vec_mag(vec):\n",
    "    \"\"\"\n",
    "    This function calculates the magnitude of a 3D vector.\n",
    "\n",
    "    Parameters:\n",
    "    vec (np.ndarray): A 3D vector represented as a numpy array.\n",
    "\n",
    "    Returns:\n",
    "    float: The magnitude of the vector.\n",
    "    \"\"\"\n",
    "    return np.sqrt(np.sum(vec**2))"
   ]
  },
  {
   "cell_type": "code",
   "execution_count": 45,
   "id": "49daee10",
   "metadata": {},
   "outputs": [],
   "source": [
    "@njit(fastmath=True)\n",
    "def proton_points(R_val):\n",
    "    \"\"\"\n",
    "    This function generates the positions of two protons in 3D space by\n",
    "    assuming they are aligned along the z-axis.\n",
    "\n",
    "    Parameters:\n",
    "    R_val: distance between the protons\n",
    "\n",
    "    Returns:\n",
    "    P1, P2: Two points in 3D space representing the positions of the protons.\n",
    "    \"\"\"\n",
    "    P1 = np.array([0, 0, -R_val/2.0])\n",
    "    P2 = np.array([0, 0, R_val/2.0])\n",
    "    return P1, P2"
   ]
  },
  {
   "cell_type": "code",
   "execution_count": 46,
   "id": "cf369802",
   "metadata": {},
   "outputs": [],
   "source": [
    "@njit(fastmath=True)  \n",
    "def single_electron_wavefunction(r_e, R_val, alpha, P1, P2, sign=1):\n",
    "    \"\"\"\n",
    "    This function calculates the wavefunction of a\n",
    "    single electron in the field of two protons.\n",
    "\n",
    "    Parameters:\n",
    "    r_e (np.ndarray): The position of the electron in 3D space.\n",
    "    R_val (float): The distance between the two protons.\n",
    "    alpha (float): The variational parameter.\n",
    "    P1 (np.ndarray): The position of the first proton in 3D space.\n",
    "    P2 (np.ndarray): The position of the second proton in 3D space.\n",
    "    sign (int): The sign of the wavefunction.\n",
    "\n",
    "    Returns:\n",
    "    float: The value of the wavefunction at the given electron position.\n",
    "    \"\"\"\n",
    "    r1 = vec_mag(r_e - P1)\n",
    "    r2 = vec_mag(r_e - P2)\n",
    "    #avoid division by zero\n",
    "    if r1 < 1e-9: r1 = 1e-9\n",
    "    if r2 < 1e-9: r2 = 1e-9\n",
    "    term1 = np.exp(-alpha * r1)\n",
    "    term2 = np.exp(-alpha * r2)\n",
    "    return term1 + sign * term2"
   ]
  },
  {
   "cell_type": "code",
   "execution_count": 47,
   "id": "5ac0647b",
   "metadata": {},
   "outputs": [],
   "source": [
    "JASTROW_A = 0.5\n",
    "\n",
    "@njit(fastmath=True)\n",
    "def calc_Jastrow(r12_mag, beta_val):\n",
    "    \"\"\"\n",
    "    This function Calculates the value of the Jastrow correlation factor.\n",
    "\n",
    "    Parameters:\n",
    "    r12_mag (float): The distance between the two electrons.\n",
    "    beta_val (float): The variational parameter beta.\n",
    "\n",
    "    Returns:\n",
    "    float: The value of the Jastrow factor.\n",
    "    \"\"\"\n",
    "    if r12_mag < 1e-9: r12_mag = 1e-9\n",
    "    return JASTROW_A * r12_mag / (1.0 + beta_val * r12_mag)"
   ]
  },
  {
   "cell_type": "code",
   "execution_count": 48,
   "id": "f864bcc5",
   "metadata": {},
   "outputs": [],
   "source": [
    "@njit(fastmath=True)\n",
    "def total_wavefunction(r_e1, r_e2, R_val, alpha, beta_val, P1, P2, sign=1):\n",
    "    \"\"\"\n",
    "    This function calculates the total wavefunction of the system.\n",
    "\n",
    "    Parameters:\n",
    "    r_e1 (np.ndarray): The position of the first electron in 3D space.\n",
    "    r_e2 (np.ndarray): The position of the second electron in 3D space.\n",
    "    R_val (float): The distance between the two protons.\n",
    "    alpha (float): The variational parameter.\n",
    "    beta_val (float): The variational parameter for Jastrow factor.\n",
    "    P1 (np.ndarray): The position of the first proton in 3D space.\n",
    "    P2 (np.ndarray): The position of the second proton in 3D space.\n",
    "    sign (int): The sign of the wavefunction.\n",
    "\n",
    "    Returns:\n",
    "    float: The value of the total wavefunction at the given electron positions.\n",
    "    \"\"\"\n",
    "    psi_1 = single_electron_wavefunction(r_e1, R_val, alpha, P1, P2, sign=sign)\n",
    "    psi_2 = single_electron_wavefunction(r_e2, R_val, alpha, P1, P2, sign=sign)\n",
    "\n",
    "    r12_mag = vec_mag(r_e1 - r_e2)\n",
    "    if r12_mag < 1e-9:\n",
    "        r12_mag = 1e-9\n",
    "        Jastrow_factor = np.exp(calc_Jastrow(r12_mag, beta_val))\n",
    "    else:\n",
    "        Jastrow_factor = np.exp(calc_Jastrow(r12_mag, beta_val))\n",
    "\n",
    "    return psi_1 * psi_2 * Jastrow_factor"
   ]
  },
  {
   "cell_type": "code",
   "execution_count": 49,
   "id": "5a1fe1a8",
   "metadata": {},
   "outputs": [],
   "source": [
    "@njit(fastmath=True)\n",
    "def H2_local_energy(r_e1, r_e2, R_val, alpha, beta_val, P1, P2, sign=1):\n",
    "    \"\"\"\n",
    "    This function calculates the local energy of the system.\n",
    "\n",
    "    Parameters:\n",
    "    r_e1 (np.ndarray): The position of the first electron in 3D space.\n",
    "    r_e2 (np.ndarray): The position of the second electron in 3D space.\n",
    "    R_val (float): The distance between the two protons.\n",
    "    alpha (float): The variational parameter.\n",
    "    beta_val (float): The variational parameter for Jastrow factor.\n",
    "    P1 (np.ndarray): The position of the first proton in 3D space.\n",
    "    P2 (np.ndarray): The position of the second proton in 3D space.\n",
    "    sign (int): The sign of the wavefunction.\n",
    "\n",
    "    Returns:\n",
    "    float: The local energy of the system at the given electron positions.\n",
    "    \"\"\"\n",
    "    r1p1_mag = vec_mag(r_e1 - P1)\n",
    "    r1p2_mag = vec_mag(r_e1 - P2)\n",
    "    r2p1_mag = vec_mag(r_e2 - P1)\n",
    "    r2p2_mag = vec_mag(r_e2 - P2)\n",
    "    r12_mag = vec_mag(r_e1 - r_e2)\n",
    "\n",
    "    #avoid division by zero\n",
    "    if r1p1_mag < 1e-9: r1p1_mag = 1e-9\n",
    "    if r1p2_mag < 1e-9: r1p2_mag = 1e-9\n",
    "    if r2p1_mag < 1e-9: r2p1_mag = 1e-9\n",
    "    if r2p2_mag < 1e-9: r2p2_mag = 1e-9\n",
    "    if r12_mag < 1e-9: r12_mag = 1e-9\n",
    "    if R_val < 1e-9: R_val = 1e-9\n",
    "\n",
    "    #potential energy terms\n",
    "    V = -1.0/r1p1_mag - 1.0/r1p2_mag - 1.0/r2p1_mag - 1.0/r2p2_mag \\\n",
    "        + 1.0/r12_mag + 1.0/R_val\n",
    "\n",
    "    #kinetic energy of electron 1\n",
    "    step = 1e-4\n",
    "    KE1 = 0.0\n",
    "    r1 = r_e1\n",
    "    r2 = r_e2\n",
    "    for i in range(r1.shape[0]): # Iterate over x,y,z\n",
    "        r1_plus = r1.copy()\n",
    "        r1_plus[i] += step\n",
    "        psi_plus = total_wavefunction(r1_plus, r2, R_val, alpha, beta_val, P1, P2, sign)\n",
    "\n",
    "        r1_minus = r1.copy()\n",
    "        r1_minus[i] -= step\n",
    "        psi_minus = total_wavefunction(r1_minus, r2, R_val, alpha, beta_val, P1, P2, sign)\n",
    "\n",
    "        KE1 += (psi_plus + psi_minus - 2.0 * total_wavefunction(r1, r2, R_val, alpha, beta_val, P1, P2, sign))\n",
    "\n",
    "    KE1 = -0.5 * KE1 / (step**2 * total_wavefunction(r1, r2, R_val, alpha, beta_val, P1, P2, sign))\n",
    "    #kinetic energy of electron 2\n",
    "    KE2 = 0.0\n",
    "    for i in range(r2.shape[0]):\n",
    "        r2_plus = r2.copy()\n",
    "        r2_plus[i] += step\n",
    "        psi_plus = total_wavefunction(r1, r2_plus, R_val, alpha, beta_val, P1, P2, sign)\n",
    "\n",
    "        r2_minus = r2.copy()\n",
    "        r2_minus[i] -= step\n",
    "        psi_minus = total_wavefunction(r1, r2_minus, R_val, alpha, beta_val, P1, P2, sign)\n",
    "\n",
    "        KE2 += (psi_plus + psi_minus - 2.0 * total_wavefunction(r1, r2, R_val, alpha, beta_val, P1, P2, sign))\n",
    "\n",
    "    KE2 = -0.5 * KE2 / (step**2 * total_wavefunction(r1, r2, R_val, alpha, beta_val, P1, P2, sign))\n",
    "\n",
    "    #total energy of the electron-proton system\n",
    "    E = V + KE1 + KE2\n",
    "\n",
    "    return E"
   ]
  },
  {
   "cell_type": "code",
   "execution_count": 50,
   "id": "2a5e27be",
   "metadata": {},
   "outputs": [],
   "source": [
    "@njit \n",
    "def H2_VMC(r, R_val, Z, step_size, samples=10000, alpha_val=2.0, beta_val=1.0, sign=1):\n",
    "    \"\"\"\n",
    "    This function performs Variational Monte Carlo (VMC) simulation for the H2 molecule.\n",
    "\n",
    "    Parameters:\n",
    "        r (np.ndarray):  A 2x3 array containing the initial 3D positions of the two electrons.\n",
    "        R_val (float): The inter-proton distance (in Bohr radii).\n",
    "        Z (float): The nuclear charge (1.0 for hydrogen).\n",
    "        step_size (float): The step size for the Metropolis algorithm.\n",
    "        samples (int): The number of VMC steps to perform (default: 10000).\n",
    "        alpha_val (float): The variational parameter alpha (default: 2.0).\n",
    "        beta_val (float): The variational parameter beta (default: 1.0).\n",
    "        sign (int): +1 for the bonding orbital, -1 for the anti-bonding orbital (default: 1).\n",
    "    Returns:\n",
    "       tuple: A tuple containing:\n",
    "            - position_saved (list): A list of 2x3 NumPy arrays, storing the electron positions at each VMC step.\n",
    "            - energy_saved (list): A list of floats, storing the local energy at each VMC step.\n",
    "            - acceptance_rate (float): The acceptance rate of the Metropolis algorithm.\n",
    "    \"\"\"\n",
    "    position_saved = []\n",
    "    energy_saved = []\n",
    "    P1, P2 = proton_points(R_val)\n",
    "    r1 = r[0].copy()\n",
    "    r2 = r[1].copy()\n",
    "    psi_T_current = total_wavefunction(r1, r2, R_val, alpha_val, beta_val, P1, P2, sign)\n",
    "    accepted_moves = 0\n",
    "\n",
    "    for n in range(samples):\n",
    "        r1_new = r1 + step_size * (np.random.rand(3) - 0.5)\n",
    "        r2_new = r2 + step_size * (np.random.rand(3) - 0.5)\n",
    "\n",
    "        psi_T_new = total_wavefunction(r1_new, r2_new, R_val, alpha_val, beta_val, P1, P2, sign)\n",
    "\n",
    "        if abs(psi_T_current) < 1e-15:\n",
    "             if abs(psi_T_new) > 1e-15:\n",
    "                 acceptance_ratio = 1.0\n",
    "             else:\n",
    "                 acceptance_ratio = 0.0\n",
    "        else:\n",
    "            acceptance_ratio = (psi_T_new / psi_T_current)**2\n",
    "\n",
    "        if np.random.rand() < acceptance_ratio:\n",
    "            r1 = r1_new\n",
    "            r2 = r2_new\n",
    "            psi_T_current = psi_T_new\n",
    "            accepted_moves += 1\n",
    "\n",
    "        position_saved.append(np.stack((r1,r2)).copy())\n",
    "        energy_saved.append(H2_local_energy(r1, r2, R_val, alpha_val, beta_val, P1, P2, sign))\n",
    "\n",
    "    acceptance_rate = accepted_moves / samples\n",
    "    return position_saved, energy_saved, acceptance_rate"
   ]
  },
  {
   "cell_type": "code",
   "execution_count": 51,
   "id": "d52e1300",
   "metadata": {},
   "outputs": [],
   "source": [
    "def alpha_opt(alpha_list, R_val, Z, step, samples=10000, sign=1):\n",
    "    \"\"\"\n",
    "    This function optimizes the alpha variational parameter\n",
    "    for the H2 molecule using VMC.\n",
    "\n",
    "    Parameters:\n",
    "        alpha_list (list): A list of alpha values to test.\n",
    "        R_val (float): The inter-proton distance.\n",
    "        Z (float): The nuclear charge.\n",
    "        step (float): The VMC step size.\n",
    "        samples (int): The number of VMC steps to perform for each alpha (default: 10000).\n",
    "        sign (int): +1 for the bonding orbital, -1 for the anti-bonding orbital (default: 1).\n",
    "\n",
    "    Returns:\n",
    "        tuple: A tuple containing:\n",
    "            - saved_energies (list): A list of the mean energies for each alpha value.\n",
    "            - optimal_alpha (float): The alpha value that minimizes the energy.\n",
    "            - variance (list): A list of the energy variances for each alpha value.\n",
    "            - mean_energies (list): A list of the mean energies for each alpha value (same as saved_energies).\n",
    "    \"\"\"\n",
    "    mean_energies = []\n",
    "    for a in alpha_list:\n",
    "        r = np.random.rand(2, 3)\n",
    "        _, energies, _ = H2_VMC(r, R_val, Z, step, samples, a, 1, sign=sign)\n",
    "        mean_e = np.mean(energies)\n",
    "        mean_energies.append(mean_e)\n",
    "\n",
    "    optimal_alpha = alpha_list[np.argmin(mean_energies)]\n",
    "    return optimal_alpha, mean_energies"
   ]
  },
  {
   "cell_type": "code",
   "execution_count": 52,
   "id": "9105fa79",
   "metadata": {},
   "outputs": [],
   "source": [
    "def beta_opt(beta_list, optimal_alpha, R_val, Z, step, samples=10000, sign=1):\n",
    "    \"\"\"\n",
    "    This function optimizes the beta variational parameter\n",
    "    for the H2 molecule using VMC.\n",
    "\n",
    "    Parameters:\n",
    "        beta_list (list): A list of beta values to test.\n",
    "        optimal_alpha (float): The optimized alpha value to use.\n",
    "        R_val (float): The inter-proton distance.\n",
    "        Z (float): The nuclear charge.\n",
    "        step (float): The VMC step size.\n",
    "        samples (int): The number of VMC steps to perform for each beta (default: 10000).\n",
    "        sign (int): +1 for the bonding orbital, -1 for the anti-bonding orbital (default: 1).\n",
    "\n",
    "    Returns:\n",
    "        tuple: A tuple containing:\n",
    "            - saved_energies (list): A list of the mean energies for each beta value.\n",
    "            - optimal_beta (float): The beta value that minimizes the energy.\n",
    "            - variance (list): A list of the energy variances for each beta value.\n",
    "            - mean_energies (list): A list of the mean energies for each beta value (same as saved_energies).\n",
    "    \"\"\"\n",
    "    mean_energies = []\n",
    "    for b in beta_list:\n",
    "        r = np.random.rand(2, 3)\n",
    "        _, energies, _ = H2_VMC(r, R_val, Z, step, samples, optimal_alpha, b, sign=sign)\n",
    "        mean_e = np.mean(energies)\n",
    "        mean_energies.append(mean_e)\n",
    "    \n",
    "    optimal_beta = beta_list[np.argmin(mean_energies)]\n",
    "    return optimal_beta, mean_energies"
   ]
  },
  {
   "cell_type": "code",
   "execution_count": 53,
   "id": "061b0c53",
   "metadata": {},
   "outputs": [
    {
     "name": "stdout",
     "output_type": "stream",
     "text": [
      "Optimal alpha: 1.1666666666666665\n",
      "Optimal beta: 0.9444444444444444\n"
     ]
    },
    {
     "data": {
      "application/vnd.plotly.v1+json": {
       "config": {
        "plotlyServerURL": "https://plot.ly"
       },
       "data": [
        {
         "mode": "lines+markers",
         "name": "Energy vs Alpha",
         "type": "scatter",
         "x": [
          0.5,
          0.6666666666666666,
          0.8333333333333333,
          1,
          1.1666666666666665,
          1.3333333333333333,
          1.5,
          1.6666666666666665,
          1.8333333333333333,
          2
         ],
         "xaxis": "x",
         "y": [
          -0.5656945474146542,
          -0.8351483128669768,
          -0.998935774078408,
          -1.094493487132702,
          -1.1464489881097537,
          -1.1432696998678997,
          -1.0911223197150723,
          -0.9829638463417167,
          -0.7913743796080769,
          -0.5764426418934404
         ],
         "yaxis": "y"
        },
        {
         "mode": "lines+markers",
         "name": "Energy vs Beta",
         "type": "scatter",
         "x": [
          0.1,
          0.3111111111111111,
          0.5222222222222223,
          0.7333333333333333,
          0.9444444444444444,
          1.1555555555555557,
          1.3666666666666667,
          1.577777777777778,
          1.788888888888889,
          2
         ],
         "xaxis": "x2",
         "y": [
          -1.0949322862558406,
          -1.1323397106745126,
          -1.1458954642412105,
          -1.1527380513124543,
          -1.1544214459098057,
          -1.1348084514366628,
          -1.1421878860356067,
          -1.1408786085344245,
          -1.1429840803945641,
          -1.137795814107968
         ],
         "yaxis": "y2"
        }
       ],
       "layout": {
        "annotations": [
         {
          "font": {
           "size": 16
          },
          "showarrow": false,
          "text": "Energy vs Alpha",
          "x": 0.225,
          "xanchor": "center",
          "xref": "paper",
          "y": 1,
          "yanchor": "bottom",
          "yref": "paper"
         },
         {
          "font": {
           "size": 16
          },
          "showarrow": false,
          "text": "Energy vs Beta (Optimal Alpha)",
          "x": 0.775,
          "xanchor": "center",
          "xref": "paper",
          "y": 1,
          "yanchor": "bottom",
          "yref": "paper"
         }
        ],
        "font": {
         "color": "white"
        },
        "height": 500,
        "legend": {
         "bgcolor": "rgba(0, 0, 0, 0.5)",
         "font": {
          "color": "white",
          "size": 12
         },
         "traceorder": "normal",
         "x": 0.8,
         "y": 1
        },
        "paper_bgcolor": "black",
        "plot_bgcolor": "black",
        "showlegend": true,
        "template": {
         "data": {
          "bar": [
           {
            "error_x": {
             "color": "#2a3f5f"
            },
            "error_y": {
             "color": "#2a3f5f"
            },
            "marker": {
             "line": {
              "color": "#E5ECF6",
              "width": 0.5
             },
             "pattern": {
              "fillmode": "overlay",
              "size": 10,
              "solidity": 0.2
             }
            },
            "type": "bar"
           }
          ],
          "barpolar": [
           {
            "marker": {
             "line": {
              "color": "#E5ECF6",
              "width": 0.5
             },
             "pattern": {
              "fillmode": "overlay",
              "size": 10,
              "solidity": 0.2
             }
            },
            "type": "barpolar"
           }
          ],
          "carpet": [
           {
            "aaxis": {
             "endlinecolor": "#2a3f5f",
             "gridcolor": "white",
             "linecolor": "white",
             "minorgridcolor": "white",
             "startlinecolor": "#2a3f5f"
            },
            "baxis": {
             "endlinecolor": "#2a3f5f",
             "gridcolor": "white",
             "linecolor": "white",
             "minorgridcolor": "white",
             "startlinecolor": "#2a3f5f"
            },
            "type": "carpet"
           }
          ],
          "choropleth": [
           {
            "colorbar": {
             "outlinewidth": 0,
             "ticks": ""
            },
            "type": "choropleth"
           }
          ],
          "contour": [
           {
            "colorbar": {
             "outlinewidth": 0,
             "ticks": ""
            },
            "colorscale": [
             [
              0,
              "#0d0887"
             ],
             [
              0.1111111111111111,
              "#46039f"
             ],
             [
              0.2222222222222222,
              "#7201a8"
             ],
             [
              0.3333333333333333,
              "#9c179e"
             ],
             [
              0.4444444444444444,
              "#bd3786"
             ],
             [
              0.5555555555555556,
              "#d8576b"
             ],
             [
              0.6666666666666666,
              "#ed7953"
             ],
             [
              0.7777777777777778,
              "#fb9f3a"
             ],
             [
              0.8888888888888888,
              "#fdca26"
             ],
             [
              1,
              "#f0f921"
             ]
            ],
            "type": "contour"
           }
          ],
          "contourcarpet": [
           {
            "colorbar": {
             "outlinewidth": 0,
             "ticks": ""
            },
            "type": "contourcarpet"
           }
          ],
          "heatmap": [
           {
            "colorbar": {
             "outlinewidth": 0,
             "ticks": ""
            },
            "colorscale": [
             [
              0,
              "#0d0887"
             ],
             [
              0.1111111111111111,
              "#46039f"
             ],
             [
              0.2222222222222222,
              "#7201a8"
             ],
             [
              0.3333333333333333,
              "#9c179e"
             ],
             [
              0.4444444444444444,
              "#bd3786"
             ],
             [
              0.5555555555555556,
              "#d8576b"
             ],
             [
              0.6666666666666666,
              "#ed7953"
             ],
             [
              0.7777777777777778,
              "#fb9f3a"
             ],
             [
              0.8888888888888888,
              "#fdca26"
             ],
             [
              1,
              "#f0f921"
             ]
            ],
            "type": "heatmap"
           }
          ],
          "heatmapgl": [
           {
            "colorbar": {
             "outlinewidth": 0,
             "ticks": ""
            },
            "colorscale": [
             [
              0,
              "#0d0887"
             ],
             [
              0.1111111111111111,
              "#46039f"
             ],
             [
              0.2222222222222222,
              "#7201a8"
             ],
             [
              0.3333333333333333,
              "#9c179e"
             ],
             [
              0.4444444444444444,
              "#bd3786"
             ],
             [
              0.5555555555555556,
              "#d8576b"
             ],
             [
              0.6666666666666666,
              "#ed7953"
             ],
             [
              0.7777777777777778,
              "#fb9f3a"
             ],
             [
              0.8888888888888888,
              "#fdca26"
             ],
             [
              1,
              "#f0f921"
             ]
            ],
            "type": "heatmapgl"
           }
          ],
          "histogram": [
           {
            "marker": {
             "pattern": {
              "fillmode": "overlay",
              "size": 10,
              "solidity": 0.2
             }
            },
            "type": "histogram"
           }
          ],
          "histogram2d": [
           {
            "colorbar": {
             "outlinewidth": 0,
             "ticks": ""
            },
            "colorscale": [
             [
              0,
              "#0d0887"
             ],
             [
              0.1111111111111111,
              "#46039f"
             ],
             [
              0.2222222222222222,
              "#7201a8"
             ],
             [
              0.3333333333333333,
              "#9c179e"
             ],
             [
              0.4444444444444444,
              "#bd3786"
             ],
             [
              0.5555555555555556,
              "#d8576b"
             ],
             [
              0.6666666666666666,
              "#ed7953"
             ],
             [
              0.7777777777777778,
              "#fb9f3a"
             ],
             [
              0.8888888888888888,
              "#fdca26"
             ],
             [
              1,
              "#f0f921"
             ]
            ],
            "type": "histogram2d"
           }
          ],
          "histogram2dcontour": [
           {
            "colorbar": {
             "outlinewidth": 0,
             "ticks": ""
            },
            "colorscale": [
             [
              0,
              "#0d0887"
             ],
             [
              0.1111111111111111,
              "#46039f"
             ],
             [
              0.2222222222222222,
              "#7201a8"
             ],
             [
              0.3333333333333333,
              "#9c179e"
             ],
             [
              0.4444444444444444,
              "#bd3786"
             ],
             [
              0.5555555555555556,
              "#d8576b"
             ],
             [
              0.6666666666666666,
              "#ed7953"
             ],
             [
              0.7777777777777778,
              "#fb9f3a"
             ],
             [
              0.8888888888888888,
              "#fdca26"
             ],
             [
              1,
              "#f0f921"
             ]
            ],
            "type": "histogram2dcontour"
           }
          ],
          "mesh3d": [
           {
            "colorbar": {
             "outlinewidth": 0,
             "ticks": ""
            },
            "type": "mesh3d"
           }
          ],
          "parcoords": [
           {
            "line": {
             "colorbar": {
              "outlinewidth": 0,
              "ticks": ""
             }
            },
            "type": "parcoords"
           }
          ],
          "pie": [
           {
            "automargin": true,
            "type": "pie"
           }
          ],
          "scatter": [
           {
            "fillpattern": {
             "fillmode": "overlay",
             "size": 10,
             "solidity": 0.2
            },
            "type": "scatter"
           }
          ],
          "scatter3d": [
           {
            "line": {
             "colorbar": {
              "outlinewidth": 0,
              "ticks": ""
             }
            },
            "marker": {
             "colorbar": {
              "outlinewidth": 0,
              "ticks": ""
             }
            },
            "type": "scatter3d"
           }
          ],
          "scattercarpet": [
           {
            "marker": {
             "colorbar": {
              "outlinewidth": 0,
              "ticks": ""
             }
            },
            "type": "scattercarpet"
           }
          ],
          "scattergeo": [
           {
            "marker": {
             "colorbar": {
              "outlinewidth": 0,
              "ticks": ""
             }
            },
            "type": "scattergeo"
           }
          ],
          "scattergl": [
           {
            "marker": {
             "colorbar": {
              "outlinewidth": 0,
              "ticks": ""
             }
            },
            "type": "scattergl"
           }
          ],
          "scattermapbox": [
           {
            "marker": {
             "colorbar": {
              "outlinewidth": 0,
              "ticks": ""
             }
            },
            "type": "scattermapbox"
           }
          ],
          "scatterpolar": [
           {
            "marker": {
             "colorbar": {
              "outlinewidth": 0,
              "ticks": ""
             }
            },
            "type": "scatterpolar"
           }
          ],
          "scatterpolargl": [
           {
            "marker": {
             "colorbar": {
              "outlinewidth": 0,
              "ticks": ""
             }
            },
            "type": "scatterpolargl"
           }
          ],
          "scatterternary": [
           {
            "marker": {
             "colorbar": {
              "outlinewidth": 0,
              "ticks": ""
             }
            },
            "type": "scatterternary"
           }
          ],
          "surface": [
           {
            "colorbar": {
             "outlinewidth": 0,
             "ticks": ""
            },
            "colorscale": [
             [
              0,
              "#0d0887"
             ],
             [
              0.1111111111111111,
              "#46039f"
             ],
             [
              0.2222222222222222,
              "#7201a8"
             ],
             [
              0.3333333333333333,
              "#9c179e"
             ],
             [
              0.4444444444444444,
              "#bd3786"
             ],
             [
              0.5555555555555556,
              "#d8576b"
             ],
             [
              0.6666666666666666,
              "#ed7953"
             ],
             [
              0.7777777777777778,
              "#fb9f3a"
             ],
             [
              0.8888888888888888,
              "#fdca26"
             ],
             [
              1,
              "#f0f921"
             ]
            ],
            "type": "surface"
           }
          ],
          "table": [
           {
            "cells": {
             "fill": {
              "color": "#EBF0F8"
             },
             "line": {
              "color": "white"
             }
            },
            "header": {
             "fill": {
              "color": "#C8D4E3"
             },
             "line": {
              "color": "white"
             }
            },
            "type": "table"
           }
          ]
         },
         "layout": {
          "annotationdefaults": {
           "arrowcolor": "#2a3f5f",
           "arrowhead": 0,
           "arrowwidth": 1
          },
          "autotypenumbers": "strict",
          "coloraxis": {
           "colorbar": {
            "outlinewidth": 0,
            "ticks": ""
           }
          },
          "colorscale": {
           "diverging": [
            [
             0,
             "#8e0152"
            ],
            [
             0.1,
             "#c51b7d"
            ],
            [
             0.2,
             "#de77ae"
            ],
            [
             0.3,
             "#f1b6da"
            ],
            [
             0.4,
             "#fde0ef"
            ],
            [
             0.5,
             "#f7f7f7"
            ],
            [
             0.6,
             "#e6f5d0"
            ],
            [
             0.7,
             "#b8e186"
            ],
            [
             0.8,
             "#7fbc41"
            ],
            [
             0.9,
             "#4d9221"
            ],
            [
             1,
             "#276419"
            ]
           ],
           "sequential": [
            [
             0,
             "#0d0887"
            ],
            [
             0.1111111111111111,
             "#46039f"
            ],
            [
             0.2222222222222222,
             "#7201a8"
            ],
            [
             0.3333333333333333,
             "#9c179e"
            ],
            [
             0.4444444444444444,
             "#bd3786"
            ],
            [
             0.5555555555555556,
             "#d8576b"
            ],
            [
             0.6666666666666666,
             "#ed7953"
            ],
            [
             0.7777777777777778,
             "#fb9f3a"
            ],
            [
             0.8888888888888888,
             "#fdca26"
            ],
            [
             1,
             "#f0f921"
            ]
           ],
           "sequentialminus": [
            [
             0,
             "#0d0887"
            ],
            [
             0.1111111111111111,
             "#46039f"
            ],
            [
             0.2222222222222222,
             "#7201a8"
            ],
            [
             0.3333333333333333,
             "#9c179e"
            ],
            [
             0.4444444444444444,
             "#bd3786"
            ],
            [
             0.5555555555555556,
             "#d8576b"
            ],
            [
             0.6666666666666666,
             "#ed7953"
            ],
            [
             0.7777777777777778,
             "#fb9f3a"
            ],
            [
             0.8888888888888888,
             "#fdca26"
            ],
            [
             1,
             "#f0f921"
            ]
           ]
          },
          "colorway": [
           "#636efa",
           "#EF553B",
           "#00cc96",
           "#ab63fa",
           "#FFA15A",
           "#19d3f3",
           "#FF6692",
           "#B6E880",
           "#FF97FF",
           "#FECB52"
          ],
          "font": {
           "color": "#2a3f5f"
          },
          "geo": {
           "bgcolor": "white",
           "lakecolor": "white",
           "landcolor": "#E5ECF6",
           "showlakes": true,
           "showland": true,
           "subunitcolor": "white"
          },
          "hoverlabel": {
           "align": "left"
          },
          "hovermode": "closest",
          "mapbox": {
           "style": "light"
          },
          "paper_bgcolor": "white",
          "plot_bgcolor": "#E5ECF6",
          "polar": {
           "angularaxis": {
            "gridcolor": "white",
            "linecolor": "white",
            "ticks": ""
           },
           "bgcolor": "#E5ECF6",
           "radialaxis": {
            "gridcolor": "white",
            "linecolor": "white",
            "ticks": ""
           }
          },
          "scene": {
           "xaxis": {
            "backgroundcolor": "#E5ECF6",
            "gridcolor": "white",
            "gridwidth": 2,
            "linecolor": "white",
            "showbackground": true,
            "ticks": "",
            "zerolinecolor": "white"
           },
           "yaxis": {
            "backgroundcolor": "#E5ECF6",
            "gridcolor": "white",
            "gridwidth": 2,
            "linecolor": "white",
            "showbackground": true,
            "ticks": "",
            "zerolinecolor": "white"
           },
           "zaxis": {
            "backgroundcolor": "#E5ECF6",
            "gridcolor": "white",
            "gridwidth": 2,
            "linecolor": "white",
            "showbackground": true,
            "ticks": "",
            "zerolinecolor": "white"
           }
          },
          "shapedefaults": {
           "line": {
            "color": "#2a3f5f"
           }
          },
          "ternary": {
           "aaxis": {
            "gridcolor": "white",
            "linecolor": "white",
            "ticks": ""
           },
           "baxis": {
            "gridcolor": "white",
            "linecolor": "white",
            "ticks": ""
           },
           "bgcolor": "#E5ECF6",
           "caxis": {
            "gridcolor": "white",
            "linecolor": "white",
            "ticks": ""
           }
          },
          "title": {
           "x": 0.05
          },
          "xaxis": {
           "automargin": true,
           "gridcolor": "white",
           "linecolor": "white",
           "ticks": "",
           "title": {
            "standoff": 15
           },
           "zerolinecolor": "white",
           "zerolinewidth": 2
          },
          "yaxis": {
           "automargin": true,
           "gridcolor": "white",
           "linecolor": "white",
           "ticks": "",
           "title": {
            "standoff": 15
           },
           "zerolinecolor": "white",
           "zerolinewidth": 2
          }
         }
        },
        "title": {
         "font": {
          "color": "white",
          "size": 18
         },
         "text": "Energy Optimization for Alpha and Beta"
        },
        "width": 1200,
        "xaxis": {
         "anchor": "y",
         "domain": [
          0,
          0.45
         ],
         "gridcolor": "gray",
         "gridwidth": 1,
         "showgrid": true,
         "title": {
          "text": "Alpha"
         }
        },
        "xaxis2": {
         "anchor": "y2",
         "domain": [
          0.55,
          1
         ],
         "gridcolor": "gray",
         "gridwidth": 1,
         "showgrid": true,
         "title": {
          "text": "Beta"
         }
        },
        "yaxis": {
         "anchor": "x",
         "domain": [
          0,
          1
         ],
         "gridcolor": "gray",
         "gridwidth": 1,
         "showgrid": true,
         "title": {
          "text": "Energy"
         }
        },
        "yaxis2": {
         "anchor": "x2",
         "domain": [
          0,
          1
         ],
         "gridcolor": "gray",
         "gridwidth": 1,
         "showgrid": true,
         "title": {
          "text": "Energy"
         }
        }
       }
      }
     },
     "metadata": {},
     "output_type": "display_data"
    },
    {
     "name": "stdout",
     "output_type": "stream",
     "text": [
      "Optimal alpha: 1.1666666666666665\n",
      "Optimal beta: 0.9444444444444444\n"
     ]
    }
   ],
   "source": [
    "R_val = 1.4\n",
    "Z = 1.0\n",
    "N_STEPS = 200000\n",
    "INITIAL_STEP_SIZE = 0.5\n",
    "\n",
    "alpha_list = np.linspace(0.5, 2.0, 10)\n",
    "optimal_alpha, energies_alpha = alpha_opt(alpha_list, R_val, Z, INITIAL_STEP_SIZE, N_STEPS)\n",
    "print(f\"Optimal alpha: {optimal_alpha}\")\n",
    "\n",
    "beta_list = np.linspace(0.1, 2.0, 10)\n",
    "optimal_beta, energies_beta = beta_opt(beta_list, optimal_alpha, R_val, Z, INITIAL_STEP_SIZE, N_STEPS)\n",
    "energies_beta = np.where(np.isnan(energies_beta), np.inf, energies_beta)\n",
    "optimal_beta = beta_list[np.argmin(energies_beta)]\n",
    "print(f\"Optimal beta: {optimal_beta}\")\n",
    "\n",
    "fig = sp.make_subplots(rows=1, cols=2, subplot_titles=(\"Energy vs Alpha\", \"Energy vs Beta (Optimal Alpha)\"))\n",
    "\n",
    "fig.add_trace(go.Scatter(x=alpha_list, y=energies_alpha, mode='lines+markers', name='Energy vs Alpha'), row=1, col=1)\n",
    "fig.update_xaxes(title_text=\"Alpha\", row=1, col=1)\n",
    "fig.update_yaxes(title_text=\"Energy\", row=1, col=1)\n",
    "fig.update_xaxes(showgrid=True, gridwidth=1, gridcolor='gray', row=1, col=1)\n",
    "fig.update_yaxes(showgrid=True, gridwidth=1, gridcolor='gray', row=1, col=1)\n",
    "\n",
    "fig.add_trace(go.Scatter(x=beta_list, y=energies_beta, mode='lines+markers', name='Energy vs Beta'), row=1, col=2)\n",
    "fig.update_xaxes(title_text=\"Beta\", row=1, col=2)\n",
    "fig.update_yaxes(title_text=\"Energy\", row=1, col=2)\n",
    "fig.update_xaxes(showgrid=True, gridwidth=1, gridcolor='gray', row=1, col=2)\n",
    "fig.update_yaxes(showgrid=True, gridwidth=1, gridcolor='gray', row=1, col=2)\n",
    "\n",
    "fig.update_layout(\n",
    "    title=\"Energy Optimization for Alpha and Beta\",\n",
    "    width=1200, height=500, showlegend=True,\n",
    "    plot_bgcolor='black', paper_bgcolor='black', font=dict(color='white'),\n",
    "    title_font=dict(size=18, color='white'),\n",
    "    legend=dict(x=0.8, y=1, traceorder='normal', font=dict(size=12, color='white'), bgcolor='rgba(0, 0, 0, 0.5)'),\n",
    ")\n",
    "\n",
    "fig.show()\n",
    "\n",
    "print(f\"Optimal alpha: {optimal_alpha}\")\n",
    "print(f\"Optimal beta: {optimal_beta}\")"
   ]
  },
  {
   "cell_type": "code",
   "execution_count": 54,
   "id": "e02b715a",
   "metadata": {},
   "outputs": [
    {
     "name": "stdout",
     "output_type": "stream",
     "text": [
      "Starting VMC for bonding (+) wavefunction...\n"
     ]
    }
   ],
   "source": [
    "R_values = np.linspace(0.5, 3.0, 20)\n",
    "N_STEPS = 200000\n",
    "INITIAL_STEP_SIZE = 0.5\n",
    "Z = 1.0\n",
    "alpha_val = optimal_alpha\n",
    "beta_val = optimal_beta\n",
    "\n",
    "results_bonding = []\n",
    "\n",
    "print(\"Starting VMC for bonding (+) wavefunction...\")\n",
    "for R_val in R_values:\n",
    "    r = np.random.rand(2, 3)\n",
    "    _, energies, _ = H2_VMC(r, R_val, Z, INITIAL_STEP_SIZE, N_STEPS, alpha_val, beta_val, sign=1)\n",
    "\n",
    "    mean_e = np.mean(energies)\n",
    "    results_bonding.append({'R': R_val, 'E': mean_e, 'alpha': alpha_val, 'beta': beta_val})\n",
    "\n",
    "results_bonding_arr = np.array([(r['R'], r['E']) for r in results_bonding])"
   ]
  },
  {
   "cell_type": "code",
   "execution_count": 55,
   "id": "7cd98e4b",
   "metadata": {},
   "outputs": [
    {
     "data": {
      "application/vnd.plotly.v1+json": {
       "config": {
        "plotlyServerURL": "https://plot.ly"
       },
       "data": [
        {
         "line": {
          "color": "royalblue"
         },
         "mode": "lines+markers",
         "name": "VMC Energy (Bonding)",
         "type": "scatter",
         "x": [
          0.5,
          0.631578947368421,
          0.763157894736842,
          0.8947368421052632,
          1.026315789473684,
          1.1578947368421053,
          1.2894736842105263,
          1.4210526315789473,
          1.5526315789473684,
          1.6842105263157894,
          1.8157894736842104,
          1.9473684210526314,
          2.0789473684210527,
          2.2105263157894735,
          2.3421052631578947,
          2.473684210526316,
          2.6052631578947367,
          2.736842105263158,
          2.8684210526315788,
          3
         ],
         "y": [
          -0.3560080780679995,
          -0.7023166018006518,
          -0.9017256133383871,
          -1.0226779193498907,
          -1.0805650849228106,
          -1.1155340756996912,
          -1.1377263573623189,
          -1.1533892098348841,
          -1.145631226890865,
          -1.142180266427351,
          -1.1277378835504455,
          -1.1134497887874815,
          -1.0879795825629257,
          -1.074895784873915,
          -1.052123173250477,
          -1.0439383414069177,
          -1.032085839499658,
          -0.9980346776185678,
          -0.9822433890993395,
          -0.9770817577076907
         ]
        },
        {
         "line": {
          "color": "red",
          "dash": "dash"
         },
         "mode": "lines",
         "name": "Exact Ground State Energy (-1.1746 Ha)",
         "type": "scatter",
         "x": [
          0.5,
          3
         ],
         "y": [
          -1.1746,
          -1.1746
         ]
        },
        {
         "line": {
          "color": "white",
          "dash": "dot"
         },
         "mode": "lines",
         "name": "Equilibrium Distance (1.40 Bohr)",
         "type": "scatter",
         "x": [
          1.4,
          1.4
         ],
         "y": [
          -1.1533892098348841,
          -0.3560080780679995
         ]
        },
        {
         "line": {
          "color": "yellow",
          "dash": "dot"
         },
         "mode": "lines",
         "name": "Calculated Equilibrium Distance (1.42 Bohr)",
         "type": "scatter",
         "x": [
          1.4210526315789473,
          1.4210526315789473
         ],
         "y": [
          -1.1533892098348841,
          -0.3560080780679995
         ]
        },
        {
         "line": {
          "color": "green",
          "dash": "dot"
         },
         "mode": "lines",
         "name": "Minimum Energy (-1.15339 Ha)",
         "type": "scatter",
         "x": [
          0.5,
          3
         ],
         "y": [
          -1.1533892098348841,
          -1.1533892098348841
         ]
        }
       ],
       "layout": {
        "font": {
         "color": "white"
        },
        "height": 600,
        "legend": {
         "bgcolor": "rgba(0, 0, 0, 0.5)",
         "font": {
          "color": "white",
          "size": 12
         },
         "traceorder": "normal",
         "x": 0.8,
         "y": 1
        },
        "paper_bgcolor": "black",
        "plot_bgcolor": "black",
        "showlegend": true,
        "template": {
         "data": {
          "bar": [
           {
            "error_x": {
             "color": "#2a3f5f"
            },
            "error_y": {
             "color": "#2a3f5f"
            },
            "marker": {
             "line": {
              "color": "#E5ECF6",
              "width": 0.5
             },
             "pattern": {
              "fillmode": "overlay",
              "size": 10,
              "solidity": 0.2
             }
            },
            "type": "bar"
           }
          ],
          "barpolar": [
           {
            "marker": {
             "line": {
              "color": "#E5ECF6",
              "width": 0.5
             },
             "pattern": {
              "fillmode": "overlay",
              "size": 10,
              "solidity": 0.2
             }
            },
            "type": "barpolar"
           }
          ],
          "carpet": [
           {
            "aaxis": {
             "endlinecolor": "#2a3f5f",
             "gridcolor": "white",
             "linecolor": "white",
             "minorgridcolor": "white",
             "startlinecolor": "#2a3f5f"
            },
            "baxis": {
             "endlinecolor": "#2a3f5f",
             "gridcolor": "white",
             "linecolor": "white",
             "minorgridcolor": "white",
             "startlinecolor": "#2a3f5f"
            },
            "type": "carpet"
           }
          ],
          "choropleth": [
           {
            "colorbar": {
             "outlinewidth": 0,
             "ticks": ""
            },
            "type": "choropleth"
           }
          ],
          "contour": [
           {
            "colorbar": {
             "outlinewidth": 0,
             "ticks": ""
            },
            "colorscale": [
             [
              0,
              "#0d0887"
             ],
             [
              0.1111111111111111,
              "#46039f"
             ],
             [
              0.2222222222222222,
              "#7201a8"
             ],
             [
              0.3333333333333333,
              "#9c179e"
             ],
             [
              0.4444444444444444,
              "#bd3786"
             ],
             [
              0.5555555555555556,
              "#d8576b"
             ],
             [
              0.6666666666666666,
              "#ed7953"
             ],
             [
              0.7777777777777778,
              "#fb9f3a"
             ],
             [
              0.8888888888888888,
              "#fdca26"
             ],
             [
              1,
              "#f0f921"
             ]
            ],
            "type": "contour"
           }
          ],
          "contourcarpet": [
           {
            "colorbar": {
             "outlinewidth": 0,
             "ticks": ""
            },
            "type": "contourcarpet"
           }
          ],
          "heatmap": [
           {
            "colorbar": {
             "outlinewidth": 0,
             "ticks": ""
            },
            "colorscale": [
             [
              0,
              "#0d0887"
             ],
             [
              0.1111111111111111,
              "#46039f"
             ],
             [
              0.2222222222222222,
              "#7201a8"
             ],
             [
              0.3333333333333333,
              "#9c179e"
             ],
             [
              0.4444444444444444,
              "#bd3786"
             ],
             [
              0.5555555555555556,
              "#d8576b"
             ],
             [
              0.6666666666666666,
              "#ed7953"
             ],
             [
              0.7777777777777778,
              "#fb9f3a"
             ],
             [
              0.8888888888888888,
              "#fdca26"
             ],
             [
              1,
              "#f0f921"
             ]
            ],
            "type": "heatmap"
           }
          ],
          "heatmapgl": [
           {
            "colorbar": {
             "outlinewidth": 0,
             "ticks": ""
            },
            "colorscale": [
             [
              0,
              "#0d0887"
             ],
             [
              0.1111111111111111,
              "#46039f"
             ],
             [
              0.2222222222222222,
              "#7201a8"
             ],
             [
              0.3333333333333333,
              "#9c179e"
             ],
             [
              0.4444444444444444,
              "#bd3786"
             ],
             [
              0.5555555555555556,
              "#d8576b"
             ],
             [
              0.6666666666666666,
              "#ed7953"
             ],
             [
              0.7777777777777778,
              "#fb9f3a"
             ],
             [
              0.8888888888888888,
              "#fdca26"
             ],
             [
              1,
              "#f0f921"
             ]
            ],
            "type": "heatmapgl"
           }
          ],
          "histogram": [
           {
            "marker": {
             "pattern": {
              "fillmode": "overlay",
              "size": 10,
              "solidity": 0.2
             }
            },
            "type": "histogram"
           }
          ],
          "histogram2d": [
           {
            "colorbar": {
             "outlinewidth": 0,
             "ticks": ""
            },
            "colorscale": [
             [
              0,
              "#0d0887"
             ],
             [
              0.1111111111111111,
              "#46039f"
             ],
             [
              0.2222222222222222,
              "#7201a8"
             ],
             [
              0.3333333333333333,
              "#9c179e"
             ],
             [
              0.4444444444444444,
              "#bd3786"
             ],
             [
              0.5555555555555556,
              "#d8576b"
             ],
             [
              0.6666666666666666,
              "#ed7953"
             ],
             [
              0.7777777777777778,
              "#fb9f3a"
             ],
             [
              0.8888888888888888,
              "#fdca26"
             ],
             [
              1,
              "#f0f921"
             ]
            ],
            "type": "histogram2d"
           }
          ],
          "histogram2dcontour": [
           {
            "colorbar": {
             "outlinewidth": 0,
             "ticks": ""
            },
            "colorscale": [
             [
              0,
              "#0d0887"
             ],
             [
              0.1111111111111111,
              "#46039f"
             ],
             [
              0.2222222222222222,
              "#7201a8"
             ],
             [
              0.3333333333333333,
              "#9c179e"
             ],
             [
              0.4444444444444444,
              "#bd3786"
             ],
             [
              0.5555555555555556,
              "#d8576b"
             ],
             [
              0.6666666666666666,
              "#ed7953"
             ],
             [
              0.7777777777777778,
              "#fb9f3a"
             ],
             [
              0.8888888888888888,
              "#fdca26"
             ],
             [
              1,
              "#f0f921"
             ]
            ],
            "type": "histogram2dcontour"
           }
          ],
          "mesh3d": [
           {
            "colorbar": {
             "outlinewidth": 0,
             "ticks": ""
            },
            "type": "mesh3d"
           }
          ],
          "parcoords": [
           {
            "line": {
             "colorbar": {
              "outlinewidth": 0,
              "ticks": ""
             }
            },
            "type": "parcoords"
           }
          ],
          "pie": [
           {
            "automargin": true,
            "type": "pie"
           }
          ],
          "scatter": [
           {
            "fillpattern": {
             "fillmode": "overlay",
             "size": 10,
             "solidity": 0.2
            },
            "type": "scatter"
           }
          ],
          "scatter3d": [
           {
            "line": {
             "colorbar": {
              "outlinewidth": 0,
              "ticks": ""
             }
            },
            "marker": {
             "colorbar": {
              "outlinewidth": 0,
              "ticks": ""
             }
            },
            "type": "scatter3d"
           }
          ],
          "scattercarpet": [
           {
            "marker": {
             "colorbar": {
              "outlinewidth": 0,
              "ticks": ""
             }
            },
            "type": "scattercarpet"
           }
          ],
          "scattergeo": [
           {
            "marker": {
             "colorbar": {
              "outlinewidth": 0,
              "ticks": ""
             }
            },
            "type": "scattergeo"
           }
          ],
          "scattergl": [
           {
            "marker": {
             "colorbar": {
              "outlinewidth": 0,
              "ticks": ""
             }
            },
            "type": "scattergl"
           }
          ],
          "scattermapbox": [
           {
            "marker": {
             "colorbar": {
              "outlinewidth": 0,
              "ticks": ""
             }
            },
            "type": "scattermapbox"
           }
          ],
          "scatterpolar": [
           {
            "marker": {
             "colorbar": {
              "outlinewidth": 0,
              "ticks": ""
             }
            },
            "type": "scatterpolar"
           }
          ],
          "scatterpolargl": [
           {
            "marker": {
             "colorbar": {
              "outlinewidth": 0,
              "ticks": ""
             }
            },
            "type": "scatterpolargl"
           }
          ],
          "scatterternary": [
           {
            "marker": {
             "colorbar": {
              "outlinewidth": 0,
              "ticks": ""
             }
            },
            "type": "scatterternary"
           }
          ],
          "surface": [
           {
            "colorbar": {
             "outlinewidth": 0,
             "ticks": ""
            },
            "colorscale": [
             [
              0,
              "#0d0887"
             ],
             [
              0.1111111111111111,
              "#46039f"
             ],
             [
              0.2222222222222222,
              "#7201a8"
             ],
             [
              0.3333333333333333,
              "#9c179e"
             ],
             [
              0.4444444444444444,
              "#bd3786"
             ],
             [
              0.5555555555555556,
              "#d8576b"
             ],
             [
              0.6666666666666666,
              "#ed7953"
             ],
             [
              0.7777777777777778,
              "#fb9f3a"
             ],
             [
              0.8888888888888888,
              "#fdca26"
             ],
             [
              1,
              "#f0f921"
             ]
            ],
            "type": "surface"
           }
          ],
          "table": [
           {
            "cells": {
             "fill": {
              "color": "#EBF0F8"
             },
             "line": {
              "color": "white"
             }
            },
            "header": {
             "fill": {
              "color": "#C8D4E3"
             },
             "line": {
              "color": "white"
             }
            },
            "type": "table"
           }
          ]
         },
         "layout": {
          "annotationdefaults": {
           "arrowcolor": "#2a3f5f",
           "arrowhead": 0,
           "arrowwidth": 1
          },
          "autotypenumbers": "strict",
          "coloraxis": {
           "colorbar": {
            "outlinewidth": 0,
            "ticks": ""
           }
          },
          "colorscale": {
           "diverging": [
            [
             0,
             "#8e0152"
            ],
            [
             0.1,
             "#c51b7d"
            ],
            [
             0.2,
             "#de77ae"
            ],
            [
             0.3,
             "#f1b6da"
            ],
            [
             0.4,
             "#fde0ef"
            ],
            [
             0.5,
             "#f7f7f7"
            ],
            [
             0.6,
             "#e6f5d0"
            ],
            [
             0.7,
             "#b8e186"
            ],
            [
             0.8,
             "#7fbc41"
            ],
            [
             0.9,
             "#4d9221"
            ],
            [
             1,
             "#276419"
            ]
           ],
           "sequential": [
            [
             0,
             "#0d0887"
            ],
            [
             0.1111111111111111,
             "#46039f"
            ],
            [
             0.2222222222222222,
             "#7201a8"
            ],
            [
             0.3333333333333333,
             "#9c179e"
            ],
            [
             0.4444444444444444,
             "#bd3786"
            ],
            [
             0.5555555555555556,
             "#d8576b"
            ],
            [
             0.6666666666666666,
             "#ed7953"
            ],
            [
             0.7777777777777778,
             "#fb9f3a"
            ],
            [
             0.8888888888888888,
             "#fdca26"
            ],
            [
             1,
             "#f0f921"
            ]
           ],
           "sequentialminus": [
            [
             0,
             "#0d0887"
            ],
            [
             0.1111111111111111,
             "#46039f"
            ],
            [
             0.2222222222222222,
             "#7201a8"
            ],
            [
             0.3333333333333333,
             "#9c179e"
            ],
            [
             0.4444444444444444,
             "#bd3786"
            ],
            [
             0.5555555555555556,
             "#d8576b"
            ],
            [
             0.6666666666666666,
             "#ed7953"
            ],
            [
             0.7777777777777778,
             "#fb9f3a"
            ],
            [
             0.8888888888888888,
             "#fdca26"
            ],
            [
             1,
             "#f0f921"
            ]
           ]
          },
          "colorway": [
           "#636efa",
           "#EF553B",
           "#00cc96",
           "#ab63fa",
           "#FFA15A",
           "#19d3f3",
           "#FF6692",
           "#B6E880",
           "#FF97FF",
           "#FECB52"
          ],
          "font": {
           "color": "#2a3f5f"
          },
          "geo": {
           "bgcolor": "white",
           "lakecolor": "white",
           "landcolor": "#E5ECF6",
           "showlakes": true,
           "showland": true,
           "subunitcolor": "white"
          },
          "hoverlabel": {
           "align": "left"
          },
          "hovermode": "closest",
          "mapbox": {
           "style": "light"
          },
          "paper_bgcolor": "white",
          "plot_bgcolor": "#E5ECF6",
          "polar": {
           "angularaxis": {
            "gridcolor": "white",
            "linecolor": "white",
            "ticks": ""
           },
           "bgcolor": "#E5ECF6",
           "radialaxis": {
            "gridcolor": "white",
            "linecolor": "white",
            "ticks": ""
           }
          },
          "scene": {
           "xaxis": {
            "backgroundcolor": "#E5ECF6",
            "gridcolor": "white",
            "gridwidth": 2,
            "linecolor": "white",
            "showbackground": true,
            "ticks": "",
            "zerolinecolor": "white"
           },
           "yaxis": {
            "backgroundcolor": "#E5ECF6",
            "gridcolor": "white",
            "gridwidth": 2,
            "linecolor": "white",
            "showbackground": true,
            "ticks": "",
            "zerolinecolor": "white"
           },
           "zaxis": {
            "backgroundcolor": "#E5ECF6",
            "gridcolor": "white",
            "gridwidth": 2,
            "linecolor": "white",
            "showbackground": true,
            "ticks": "",
            "zerolinecolor": "white"
           }
          },
          "shapedefaults": {
           "line": {
            "color": "#2a3f5f"
           }
          },
          "ternary": {
           "aaxis": {
            "gridcolor": "white",
            "linecolor": "white",
            "ticks": ""
           },
           "baxis": {
            "gridcolor": "white",
            "linecolor": "white",
            "ticks": ""
           },
           "bgcolor": "#E5ECF6",
           "caxis": {
            "gridcolor": "white",
            "linecolor": "white",
            "ticks": ""
           }
          },
          "title": {
           "x": 0.05
          },
          "xaxis": {
           "automargin": true,
           "gridcolor": "white",
           "linecolor": "white",
           "ticks": "",
           "title": {
            "standoff": 15
           },
           "zerolinecolor": "white",
           "zerolinewidth": 2
          },
          "yaxis": {
           "automargin": true,
           "gridcolor": "white",
           "linecolor": "white",
           "ticks": "",
           "title": {
            "standoff": 15
           },
           "zerolinecolor": "white",
           "zerolinewidth": 2
          }
         }
        },
        "title": {
         "font": {
          "color": "white",
          "size": 18
         },
         "text": "H2 Ground State Energy (Bonding WF) vs. R"
        },
        "width": 1200,
        "xaxis": {
         "gridcolor": "gray",
         "gridwidth": 1,
         "showgrid": true,
         "title": {
          "text": "Inter-proton distance R (Bohr)"
         }
        },
        "yaxis": {
         "gridcolor": "gray",
         "gridwidth": 1,
         "showgrid": true,
         "title": {
          "text": "Energy (Hartree)"
         }
        }
       }
      }
     },
     "metadata": {},
     "output_type": "display_data"
    }
   ],
   "source": [
    "fig = go.Figure()\n",
    "\n",
    "fig.add_trace(go.Scatter(\n",
    "    x=results_bonding_arr[:, 0],\n",
    "    y=results_bonding_arr[:, 1],\n",
    "    mode='lines+markers',\n",
    "    name='VMC Energy (Bonding)',\n",
    "    line=dict(color='royalblue')\n",
    "))\n",
    "\n",
    "fig.add_trace(go.Scatter(\n",
    "    x=[R_values[0], R_values[-1]],\n",
    "    y=[-1.17460, -1.17460],\n",
    "    mode='lines',\n",
    "    name='Exact Ground State Energy (-1.1746 Ha)',\n",
    "    line=dict(color='red', dash='dash')\n",
    "))\n",
    "\n",
    "fig.add_trace(go.Scatter(\n",
    "    x=[1.40, 1.40],\n",
    "    y=[min(results_bonding_arr[:, 1]), max(results_bonding_arr[:, 1])],\n",
    "    mode='lines',\n",
    "    name='Equilibrium Distance (1.40 Bohr)',\n",
    "    line=dict(color='white', dash='dot')\n",
    "))\n",
    "\n",
    "min_energy_idx = np.argmin(results_bonding_arr[:, 1])\n",
    "min_energy_R = results_bonding_arr[min_energy_idx, 0]\n",
    "min_energy = results_bonding_arr[min_energy_idx, 1]\n",
    "\n",
    "fig.add_trace(go.Scatter(\n",
    "    x=[min_energy_R, min_energy_R],\n",
    "    y=[min(results_bonding_arr[:, 1]), max(results_bonding_arr[:, 1])],\n",
    "    mode='lines',\n",
    "    name=f'Calculated Equilibrium Distance ({min_energy_R:.2f} Bohr)',\n",
    "    line=dict(color='yellow', dash='dot')\n",
    "))\n",
    "\n",
    "fig.add_trace(go.Scatter(\n",
    "    x=[R_values[0], R_values[-1]],\n",
    "    y=[min_energy, min_energy],\n",
    "    mode='lines',\n",
    "    name=f'Minimum Energy ({min_energy:.5f} Ha)',\n",
    "    line=dict(color='green', dash='dot')\n",
    "))\n",
    "\n",
    "fig.update_layout(\n",
    "    title=\"H2 Ground State Energy (Bonding WF) vs. R\",\n",
    "    xaxis_title=\"Inter-proton distance R (Bohr)\",\n",
    "    yaxis_title=\"Energy (Hartree)\",\n",
    "    width=1200, height=600, showlegend=True,\n",
    "    plot_bgcolor='black', paper_bgcolor='black', font=dict(color='white'),\n",
    "    title_font=dict(size=18, color='white'),\n",
    "    legend=dict(x=0.8, y=1, traceorder='normal', font=dict(size=12, color='white'), bgcolor='rgba(0, 0, 0, 0.5)'),\n",
    "    xaxis=dict(showgrid=True, gridwidth=1, gridcolor='gray'),\n",
    "    yaxis=dict(showgrid=True, gridwidth=1, gridcolor='gray')\n",
    ")\n",
    "\n",
    "fig.show()"
   ]
  },
  {
   "cell_type": "code",
   "execution_count": 56,
   "id": "e7d70638",
   "metadata": {},
   "outputs": [
    {
     "name": "stdout",
     "output_type": "stream",
     "text": [
      "Starting VMC for anti-bonding (-) wavefunction...\n"
     ]
    }
   ],
   "source": [
    "print(\"Starting VMC for anti-bonding (-) wavefunction...\")\n",
    "results_anti_bonding = []\n",
    "for R_val in R_values:\n",
    "    r = np.random.rand(2, 3)\n",
    "    _, energies, _ = H2_VMC(r, R_val, Z, INITIAL_STEP_SIZE, N_STEPS, alpha_val, beta_val, sign=-1)\n",
    "\n",
    "    mean_e = np.mean(energies)\n",
    "    results_anti_bonding.append({'R': R_val, 'E': mean_e, 'alpha': alpha_val, 'beta': beta_val})\n",
    "\n",
    "results_anti_bonding_arr = np.array([(r['R'], r['E']) for r in results_anti_bonding])"
   ]
  },
  {
   "cell_type": "code",
   "execution_count": 57,
   "id": "b8aad7d7",
   "metadata": {},
   "outputs": [
    {
     "data": {
      "application/vnd.plotly.v1+json": {
       "config": {
        "plotlyServerURL": "https://plot.ly"
       },
       "data": [
        {
         "line": {
          "color": "royalblue"
         },
         "mode": "lines+markers",
         "name": "VMC Energy (Anti-Bonding)",
         "type": "scatter",
         "x": [
          0.5,
          0.631578947368421,
          0.763157894736842,
          0.8947368421052632,
          1.026315789473684,
          1.1578947368421053,
          1.2894736842105263,
          1.4210526315789473,
          1.5526315789473684,
          1.6842105263157894,
          1.8157894736842104,
          1.9473684210526314,
          2.0789473684210527,
          2.2105263157894735,
          2.3421052631578947,
          2.473684210526316,
          2.6052631578947367,
          2.736842105263158,
          2.8684210526315788,
          3
         ],
         "y": [
          2.6499035876543156,
          2.0278577176734487,
          1.5737172045129848,
          1.2028249439816445,
          0.8119412081722363,
          0.596745266062499,
          0.39690908751957554,
          0.25553761155554405,
          0.07712584324351908,
          0.01269589515728896,
          -0.09391992276015823,
          -0.201747460121965,
          -0.27930253488915435,
          -0.2569881532201844,
          -0.466721391658705,
          -0.41550903459038707,
          -0.5307428864206966,
          -0.5911263179022302,
          -0.5884695318625967,
          -0.6032545986207268
         ]
        },
        {
         "line": {
          "color": "red",
          "dash": "dash"
         },
         "mode": "lines",
         "name": "Exact Ground State Energy (-1.1746 Ha)",
         "type": "scatter",
         "x": [
          0.5,
          3
         ],
         "y": [
          -1.1746,
          -1.1746
         ]
        },
        {
         "line": {
          "color": "gray",
          "dash": "dot"
         },
         "mode": "lines",
         "name": "Equilibrium Distance (1.40 Bohr)",
         "type": "scatter",
         "x": [
          1.4,
          1.4
         ],
         "y": [
          -0.6032545986207268,
          2.6499035876543156
         ]
        },
        {
         "line": {
          "color": "lime",
          "dash": "dot"
         },
         "mode": "lines",
         "name": "Calculated Equilibrium Distance (3.00 Bohr)",
         "type": "scatter",
         "x": [
          3,
          3
         ],
         "y": [
          -0.6032545986207268,
          2.6499035876543156
         ]
        },
        {
         "line": {
          "color": "lime",
          "dash": "dot"
         },
         "mode": "lines",
         "name": "Minimum Energy (-0.60325 Ha)",
         "type": "scatter",
         "x": [
          0.5,
          3
         ],
         "y": [
          -0.6032545986207268,
          -0.6032545986207268
         ]
        }
       ],
       "layout": {
        "font": {
         "color": "white"
        },
        "height": 600,
        "legend": {
         "bgcolor": "rgba(0, 0, 0, 0.5)",
         "font": {
          "color": "white",
          "size": 12
         },
         "traceorder": "normal",
         "x": 0.8,
         "y": 1
        },
        "paper_bgcolor": "black",
        "plot_bgcolor": "black",
        "showlegend": true,
        "template": {
         "data": {
          "bar": [
           {
            "error_x": {
             "color": "#2a3f5f"
            },
            "error_y": {
             "color": "#2a3f5f"
            },
            "marker": {
             "line": {
              "color": "#E5ECF6",
              "width": 0.5
             },
             "pattern": {
              "fillmode": "overlay",
              "size": 10,
              "solidity": 0.2
             }
            },
            "type": "bar"
           }
          ],
          "barpolar": [
           {
            "marker": {
             "line": {
              "color": "#E5ECF6",
              "width": 0.5
             },
             "pattern": {
              "fillmode": "overlay",
              "size": 10,
              "solidity": 0.2
             }
            },
            "type": "barpolar"
           }
          ],
          "carpet": [
           {
            "aaxis": {
             "endlinecolor": "#2a3f5f",
             "gridcolor": "white",
             "linecolor": "white",
             "minorgridcolor": "white",
             "startlinecolor": "#2a3f5f"
            },
            "baxis": {
             "endlinecolor": "#2a3f5f",
             "gridcolor": "white",
             "linecolor": "white",
             "minorgridcolor": "white",
             "startlinecolor": "#2a3f5f"
            },
            "type": "carpet"
           }
          ],
          "choropleth": [
           {
            "colorbar": {
             "outlinewidth": 0,
             "ticks": ""
            },
            "type": "choropleth"
           }
          ],
          "contour": [
           {
            "colorbar": {
             "outlinewidth": 0,
             "ticks": ""
            },
            "colorscale": [
             [
              0,
              "#0d0887"
             ],
             [
              0.1111111111111111,
              "#46039f"
             ],
             [
              0.2222222222222222,
              "#7201a8"
             ],
             [
              0.3333333333333333,
              "#9c179e"
             ],
             [
              0.4444444444444444,
              "#bd3786"
             ],
             [
              0.5555555555555556,
              "#d8576b"
             ],
             [
              0.6666666666666666,
              "#ed7953"
             ],
             [
              0.7777777777777778,
              "#fb9f3a"
             ],
             [
              0.8888888888888888,
              "#fdca26"
             ],
             [
              1,
              "#f0f921"
             ]
            ],
            "type": "contour"
           }
          ],
          "contourcarpet": [
           {
            "colorbar": {
             "outlinewidth": 0,
             "ticks": ""
            },
            "type": "contourcarpet"
           }
          ],
          "heatmap": [
           {
            "colorbar": {
             "outlinewidth": 0,
             "ticks": ""
            },
            "colorscale": [
             [
              0,
              "#0d0887"
             ],
             [
              0.1111111111111111,
              "#46039f"
             ],
             [
              0.2222222222222222,
              "#7201a8"
             ],
             [
              0.3333333333333333,
              "#9c179e"
             ],
             [
              0.4444444444444444,
              "#bd3786"
             ],
             [
              0.5555555555555556,
              "#d8576b"
             ],
             [
              0.6666666666666666,
              "#ed7953"
             ],
             [
              0.7777777777777778,
              "#fb9f3a"
             ],
             [
              0.8888888888888888,
              "#fdca26"
             ],
             [
              1,
              "#f0f921"
             ]
            ],
            "type": "heatmap"
           }
          ],
          "heatmapgl": [
           {
            "colorbar": {
             "outlinewidth": 0,
             "ticks": ""
            },
            "colorscale": [
             [
              0,
              "#0d0887"
             ],
             [
              0.1111111111111111,
              "#46039f"
             ],
             [
              0.2222222222222222,
              "#7201a8"
             ],
             [
              0.3333333333333333,
              "#9c179e"
             ],
             [
              0.4444444444444444,
              "#bd3786"
             ],
             [
              0.5555555555555556,
              "#d8576b"
             ],
             [
              0.6666666666666666,
              "#ed7953"
             ],
             [
              0.7777777777777778,
              "#fb9f3a"
             ],
             [
              0.8888888888888888,
              "#fdca26"
             ],
             [
              1,
              "#f0f921"
             ]
            ],
            "type": "heatmapgl"
           }
          ],
          "histogram": [
           {
            "marker": {
             "pattern": {
              "fillmode": "overlay",
              "size": 10,
              "solidity": 0.2
             }
            },
            "type": "histogram"
           }
          ],
          "histogram2d": [
           {
            "colorbar": {
             "outlinewidth": 0,
             "ticks": ""
            },
            "colorscale": [
             [
              0,
              "#0d0887"
             ],
             [
              0.1111111111111111,
              "#46039f"
             ],
             [
              0.2222222222222222,
              "#7201a8"
             ],
             [
              0.3333333333333333,
              "#9c179e"
             ],
             [
              0.4444444444444444,
              "#bd3786"
             ],
             [
              0.5555555555555556,
              "#d8576b"
             ],
             [
              0.6666666666666666,
              "#ed7953"
             ],
             [
              0.7777777777777778,
              "#fb9f3a"
             ],
             [
              0.8888888888888888,
              "#fdca26"
             ],
             [
              1,
              "#f0f921"
             ]
            ],
            "type": "histogram2d"
           }
          ],
          "histogram2dcontour": [
           {
            "colorbar": {
             "outlinewidth": 0,
             "ticks": ""
            },
            "colorscale": [
             [
              0,
              "#0d0887"
             ],
             [
              0.1111111111111111,
              "#46039f"
             ],
             [
              0.2222222222222222,
              "#7201a8"
             ],
             [
              0.3333333333333333,
              "#9c179e"
             ],
             [
              0.4444444444444444,
              "#bd3786"
             ],
             [
              0.5555555555555556,
              "#d8576b"
             ],
             [
              0.6666666666666666,
              "#ed7953"
             ],
             [
              0.7777777777777778,
              "#fb9f3a"
             ],
             [
              0.8888888888888888,
              "#fdca26"
             ],
             [
              1,
              "#f0f921"
             ]
            ],
            "type": "histogram2dcontour"
           }
          ],
          "mesh3d": [
           {
            "colorbar": {
             "outlinewidth": 0,
             "ticks": ""
            },
            "type": "mesh3d"
           }
          ],
          "parcoords": [
           {
            "line": {
             "colorbar": {
              "outlinewidth": 0,
              "ticks": ""
             }
            },
            "type": "parcoords"
           }
          ],
          "pie": [
           {
            "automargin": true,
            "type": "pie"
           }
          ],
          "scatter": [
           {
            "fillpattern": {
             "fillmode": "overlay",
             "size": 10,
             "solidity": 0.2
            },
            "type": "scatter"
           }
          ],
          "scatter3d": [
           {
            "line": {
             "colorbar": {
              "outlinewidth": 0,
              "ticks": ""
             }
            },
            "marker": {
             "colorbar": {
              "outlinewidth": 0,
              "ticks": ""
             }
            },
            "type": "scatter3d"
           }
          ],
          "scattercarpet": [
           {
            "marker": {
             "colorbar": {
              "outlinewidth": 0,
              "ticks": ""
             }
            },
            "type": "scattercarpet"
           }
          ],
          "scattergeo": [
           {
            "marker": {
             "colorbar": {
              "outlinewidth": 0,
              "ticks": ""
             }
            },
            "type": "scattergeo"
           }
          ],
          "scattergl": [
           {
            "marker": {
             "colorbar": {
              "outlinewidth": 0,
              "ticks": ""
             }
            },
            "type": "scattergl"
           }
          ],
          "scattermapbox": [
           {
            "marker": {
             "colorbar": {
              "outlinewidth": 0,
              "ticks": ""
             }
            },
            "type": "scattermapbox"
           }
          ],
          "scatterpolar": [
           {
            "marker": {
             "colorbar": {
              "outlinewidth": 0,
              "ticks": ""
             }
            },
            "type": "scatterpolar"
           }
          ],
          "scatterpolargl": [
           {
            "marker": {
             "colorbar": {
              "outlinewidth": 0,
              "ticks": ""
             }
            },
            "type": "scatterpolargl"
           }
          ],
          "scatterternary": [
           {
            "marker": {
             "colorbar": {
              "outlinewidth": 0,
              "ticks": ""
             }
            },
            "type": "scatterternary"
           }
          ],
          "surface": [
           {
            "colorbar": {
             "outlinewidth": 0,
             "ticks": ""
            },
            "colorscale": [
             [
              0,
              "#0d0887"
             ],
             [
              0.1111111111111111,
              "#46039f"
             ],
             [
              0.2222222222222222,
              "#7201a8"
             ],
             [
              0.3333333333333333,
              "#9c179e"
             ],
             [
              0.4444444444444444,
              "#bd3786"
             ],
             [
              0.5555555555555556,
              "#d8576b"
             ],
             [
              0.6666666666666666,
              "#ed7953"
             ],
             [
              0.7777777777777778,
              "#fb9f3a"
             ],
             [
              0.8888888888888888,
              "#fdca26"
             ],
             [
              1,
              "#f0f921"
             ]
            ],
            "type": "surface"
           }
          ],
          "table": [
           {
            "cells": {
             "fill": {
              "color": "#EBF0F8"
             },
             "line": {
              "color": "white"
             }
            },
            "header": {
             "fill": {
              "color": "#C8D4E3"
             },
             "line": {
              "color": "white"
             }
            },
            "type": "table"
           }
          ]
         },
         "layout": {
          "annotationdefaults": {
           "arrowcolor": "#2a3f5f",
           "arrowhead": 0,
           "arrowwidth": 1
          },
          "autotypenumbers": "strict",
          "coloraxis": {
           "colorbar": {
            "outlinewidth": 0,
            "ticks": ""
           }
          },
          "colorscale": {
           "diverging": [
            [
             0,
             "#8e0152"
            ],
            [
             0.1,
             "#c51b7d"
            ],
            [
             0.2,
             "#de77ae"
            ],
            [
             0.3,
             "#f1b6da"
            ],
            [
             0.4,
             "#fde0ef"
            ],
            [
             0.5,
             "#f7f7f7"
            ],
            [
             0.6,
             "#e6f5d0"
            ],
            [
             0.7,
             "#b8e186"
            ],
            [
             0.8,
             "#7fbc41"
            ],
            [
             0.9,
             "#4d9221"
            ],
            [
             1,
             "#276419"
            ]
           ],
           "sequential": [
            [
             0,
             "#0d0887"
            ],
            [
             0.1111111111111111,
             "#46039f"
            ],
            [
             0.2222222222222222,
             "#7201a8"
            ],
            [
             0.3333333333333333,
             "#9c179e"
            ],
            [
             0.4444444444444444,
             "#bd3786"
            ],
            [
             0.5555555555555556,
             "#d8576b"
            ],
            [
             0.6666666666666666,
             "#ed7953"
            ],
            [
             0.7777777777777778,
             "#fb9f3a"
            ],
            [
             0.8888888888888888,
             "#fdca26"
            ],
            [
             1,
             "#f0f921"
            ]
           ],
           "sequentialminus": [
            [
             0,
             "#0d0887"
            ],
            [
             0.1111111111111111,
             "#46039f"
            ],
            [
             0.2222222222222222,
             "#7201a8"
            ],
            [
             0.3333333333333333,
             "#9c179e"
            ],
            [
             0.4444444444444444,
             "#bd3786"
            ],
            [
             0.5555555555555556,
             "#d8576b"
            ],
            [
             0.6666666666666666,
             "#ed7953"
            ],
            [
             0.7777777777777778,
             "#fb9f3a"
            ],
            [
             0.8888888888888888,
             "#fdca26"
            ],
            [
             1,
             "#f0f921"
            ]
           ]
          },
          "colorway": [
           "#636efa",
           "#EF553B",
           "#00cc96",
           "#ab63fa",
           "#FFA15A",
           "#19d3f3",
           "#FF6692",
           "#B6E880",
           "#FF97FF",
           "#FECB52"
          ],
          "font": {
           "color": "#2a3f5f"
          },
          "geo": {
           "bgcolor": "white",
           "lakecolor": "white",
           "landcolor": "#E5ECF6",
           "showlakes": true,
           "showland": true,
           "subunitcolor": "white"
          },
          "hoverlabel": {
           "align": "left"
          },
          "hovermode": "closest",
          "mapbox": {
           "style": "light"
          },
          "paper_bgcolor": "white",
          "plot_bgcolor": "#E5ECF6",
          "polar": {
           "angularaxis": {
            "gridcolor": "white",
            "linecolor": "white",
            "ticks": ""
           },
           "bgcolor": "#E5ECF6",
           "radialaxis": {
            "gridcolor": "white",
            "linecolor": "white",
            "ticks": ""
           }
          },
          "scene": {
           "xaxis": {
            "backgroundcolor": "#E5ECF6",
            "gridcolor": "white",
            "gridwidth": 2,
            "linecolor": "white",
            "showbackground": true,
            "ticks": "",
            "zerolinecolor": "white"
           },
           "yaxis": {
            "backgroundcolor": "#E5ECF6",
            "gridcolor": "white",
            "gridwidth": 2,
            "linecolor": "white",
            "showbackground": true,
            "ticks": "",
            "zerolinecolor": "white"
           },
           "zaxis": {
            "backgroundcolor": "#E5ECF6",
            "gridcolor": "white",
            "gridwidth": 2,
            "linecolor": "white",
            "showbackground": true,
            "ticks": "",
            "zerolinecolor": "white"
           }
          },
          "shapedefaults": {
           "line": {
            "color": "#2a3f5f"
           }
          },
          "ternary": {
           "aaxis": {
            "gridcolor": "white",
            "linecolor": "white",
            "ticks": ""
           },
           "baxis": {
            "gridcolor": "white",
            "linecolor": "white",
            "ticks": ""
           },
           "bgcolor": "#E5ECF6",
           "caxis": {
            "gridcolor": "white",
            "linecolor": "white",
            "ticks": ""
           }
          },
          "title": {
           "x": 0.05
          },
          "xaxis": {
           "automargin": true,
           "gridcolor": "white",
           "linecolor": "white",
           "ticks": "",
           "title": {
            "standoff": 15
           },
           "zerolinecolor": "white",
           "zerolinewidth": 2
          },
          "yaxis": {
           "automargin": true,
           "gridcolor": "white",
           "linecolor": "white",
           "ticks": "",
           "title": {
            "standoff": 15
           },
           "zerolinecolor": "white",
           "zerolinewidth": 2
          }
         }
        },
        "title": {
         "font": {
          "color": "white",
          "size": 18
         },
         "text": "H2 Ground State Energy (Anti-Bonding WF) vs. R"
        },
        "width": 1200,
        "xaxis": {
         "gridcolor": "gray",
         "gridwidth": 1,
         "showgrid": true,
         "title": {
          "text": "Inter-proton distance R (Bohr)"
         }
        },
        "yaxis": {
         "gridcolor": "gray",
         "gridwidth": 1,
         "showgrid": true,
         "title": {
          "text": "Energy (Hartree)"
         }
        }
       }
      }
     },
     "metadata": {},
     "output_type": "display_data"
    }
   ],
   "source": [
    "fig = go.Figure()\n",
    "\n",
    "fig.add_trace(go.Scatter(\n",
    "    x=results_anti_bonding_arr[:, 0],\n",
    "    y=results_anti_bonding_arr[:, 1],\n",
    "    mode='lines+markers',\n",
    "    name='VMC Energy (Anti-Bonding)',\n",
    "    line=dict(color='royalblue')\n",
    "))\n",
    "\n",
    "fig.add_trace(go.Scatter(\n",
    "    x=[R_values[0], R_values[-1]],\n",
    "    y=[-1.17460, -1.17460],\n",
    "    mode='lines',\n",
    "    name='Exact Ground State Energy (-1.1746 Ha)',\n",
    "    line=dict(color='red', dash='dash')\n",
    "))\n",
    "\n",
    "fig.add_trace(go.Scatter(\n",
    "    x=[1.40, 1.40],\n",
    "    y=[min(results_anti_bonding_arr[:, 1]), max(results_anti_bonding_arr[:, 1])],\n",
    "    mode='lines',\n",
    "    name='Equilibrium Distance (1.40 Bohr)',\n",
    "    line=dict(color='gray', dash='dot')\n",
    "))\n",
    "\n",
    "min_energy_idx = np.argmin(results_anti_bonding_arr[:, 1])\n",
    "min_energy_R = results_anti_bonding_arr[min_energy_idx, 0]\n",
    "min_energy = results_anti_bonding_arr[min_energy_idx, 1]\n",
    "\n",
    "fig.add_trace(go.Scatter(\n",
    "    x=[min_energy_R, min_energy_R],\n",
    "    y=[min(results_anti_bonding_arr[:, 1]), max(results_anti_bonding_arr[:, 1])],\n",
    "    mode='lines',\n",
    "    name=f'Calculated Equilibrium Distance ({min_energy_R:.2f} Bohr)',\n",
    "    line=dict(color='lime', dash='dot')\n",
    "))\n",
    "\n",
    "fig.add_trace(go.Scatter(\n",
    "    x=[R_values[0], R_values[-1]],\n",
    "    y=[min_energy, min_energy],\n",
    "    mode='lines',\n",
    "    name=f'Minimum Energy ({min_energy:.5f} Ha)',\n",
    "    line=dict(color='lime', dash='dot')\n",
    "))\n",
    "\n",
    "fig.update_layout(\n",
    "    title=\"H2 Ground State Energy (Anti-Bonding WF) vs. R\",\n",
    "    xaxis_title=\"Inter-proton distance R (Bohr)\",\n",
    "    yaxis_title=\"Energy (Hartree)\",\n",
    "    width=1200, height=600, showlegend=True,\n",
    "    plot_bgcolor='black', paper_bgcolor='black', font=dict(color='white'),\n",
    "    title_font=dict(size=18, color='white'),\n",
    "    legend=dict(x=0.8, y=1, traceorder='normal', font=dict(size=12, color='white'), bgcolor='rgba(0, 0, 0, 0.5)'),\n",
    "    xaxis=dict(showgrid=True, gridwidth=1, gridcolor='gray'),\n",
    "    yaxis=dict(showgrid=True, gridwidth=1, gridcolor='gray')\n",
    ")\n",
    "\n",
    "fig.show()"
   ]
  },
  {
   "cell_type": "code",
   "execution_count": 58,
   "id": "45544277",
   "metadata": {},
   "outputs": [
    {
     "data": {
      "application/vnd.plotly.v1+json": {
       "config": {
        "plotlyServerURL": "https://plot.ly"
       },
       "data": [
        {
         "line": {
          "color": "royalblue"
         },
         "mode": "lines+markers",
         "name": "VMC Energy (Bonding)",
         "type": "scatter",
         "x": [
          0.5,
          0.631578947368421,
          0.763157894736842,
          0.8947368421052632,
          1.026315789473684,
          1.1578947368421053,
          1.2894736842105263,
          1.4210526315789473,
          1.5526315789473684,
          1.6842105263157894,
          1.8157894736842104,
          1.9473684210526314,
          2.0789473684210527,
          2.2105263157894735,
          2.3421052631578947,
          2.473684210526316,
          2.6052631578947367,
          2.736842105263158,
          2.8684210526315788,
          3
         ],
         "y": [
          -0.3560080780679995,
          -0.7023166018006518,
          -0.9017256133383871,
          -1.0226779193498907,
          -1.0805650849228106,
          -1.1155340756996912,
          -1.1377263573623189,
          -1.1533892098348841,
          -1.145631226890865,
          -1.142180266427351,
          -1.1277378835504455,
          -1.1134497887874815,
          -1.0879795825629257,
          -1.074895784873915,
          -1.052123173250477,
          -1.0439383414069177,
          -1.032085839499658,
          -0.9980346776185678,
          -0.9822433890993395,
          -0.9770817577076907
         ]
        },
        {
         "line": {
          "color": "orange"
         },
         "mode": "lines+markers",
         "name": "VMC Energy (Anti-Bonding)",
         "type": "scatter",
         "x": [
          0.5,
          0.631578947368421,
          0.763157894736842,
          0.8947368421052632,
          1.026315789473684,
          1.1578947368421053,
          1.2894736842105263,
          1.4210526315789473,
          1.5526315789473684,
          1.6842105263157894,
          1.8157894736842104,
          1.9473684210526314,
          2.0789473684210527,
          2.2105263157894735,
          2.3421052631578947,
          2.473684210526316,
          2.6052631578947367,
          2.736842105263158,
          2.8684210526315788,
          3
         ],
         "y": [
          2.6499035876543156,
          2.0278577176734487,
          1.5737172045129848,
          1.2028249439816445,
          0.8119412081722363,
          0.596745266062499,
          0.39690908751957554,
          0.25553761155554405,
          0.07712584324351908,
          0.01269589515728896,
          -0.09391992276015823,
          -0.201747460121965,
          -0.27930253488915435,
          -0.2569881532201844,
          -0.466721391658705,
          -0.41550903459038707,
          -0.5307428864206966,
          -0.5911263179022302,
          -0.5884695318625967,
          -0.6032545986207268
         ]
        },
        {
         "line": {
          "color": "red",
          "dash": "dash"
         },
         "mode": "lines",
         "name": "Exact Ground State Energy (-1.1746 Ha)",
         "type": "scatter",
         "x": [
          0.5,
          3
         ],
         "y": [
          -1.1746,
          -1.1746
         ]
        },
        {
         "line": {
          "color": "lime",
          "dash": "dot"
         },
         "mode": "lines",
         "name": "Equilibrium Distance (Bonding) (1.42 Bohr)",
         "type": "scatter",
         "x": [
          1.4210526315789473,
          1.4210526315789473
         ],
         "y": [
          -1.1533892098348841,
          -0.3560080780679995
         ]
        },
        {
         "line": {
          "color": "lime",
          "dash": "dot"
         },
         "mode": "lines",
         "name": "Minimum Energy (Bonding) (-1.15339 Ha)",
         "type": "scatter",
         "x": [
          0.5,
          3
         ],
         "y": [
          -1.1533892098348841,
          -1.1533892098348841
         ]
        },
        {
         "line": {
          "color": "cyan",
          "dash": "dot"
         },
         "mode": "lines",
         "name": "Equilibrium Distance (Anti-Bonding) (3.00 Bohr)",
         "type": "scatter",
         "x": [
          3,
          3
         ],
         "y": [
          -0.6032545986207268,
          2.6499035876543156
         ]
        },
        {
         "line": {
          "color": "cyan",
          "dash": "dot"
         },
         "mode": "lines",
         "name": "Minimum Energy (Anti-Bonding) (-0.60325 Ha)",
         "type": "scatter",
         "x": [
          0.5,
          3
         ],
         "y": [
          -0.6032545986207268,
          -0.6032545986207268
         ]
        }
       ],
       "layout": {
        "font": {
         "color": "white"
        },
        "height": 600,
        "legend": {
         "bgcolor": "rgba(0, 0, 0, 0.5)",
         "font": {
          "color": "white",
          "size": 12
         },
         "traceorder": "normal",
         "x": 0.75,
         "y": 1
        },
        "paper_bgcolor": "black",
        "plot_bgcolor": "black",
        "showlegend": true,
        "template": {
         "data": {
          "bar": [
           {
            "error_x": {
             "color": "#2a3f5f"
            },
            "error_y": {
             "color": "#2a3f5f"
            },
            "marker": {
             "line": {
              "color": "#E5ECF6",
              "width": 0.5
             },
             "pattern": {
              "fillmode": "overlay",
              "size": 10,
              "solidity": 0.2
             }
            },
            "type": "bar"
           }
          ],
          "barpolar": [
           {
            "marker": {
             "line": {
              "color": "#E5ECF6",
              "width": 0.5
             },
             "pattern": {
              "fillmode": "overlay",
              "size": 10,
              "solidity": 0.2
             }
            },
            "type": "barpolar"
           }
          ],
          "carpet": [
           {
            "aaxis": {
             "endlinecolor": "#2a3f5f",
             "gridcolor": "white",
             "linecolor": "white",
             "minorgridcolor": "white",
             "startlinecolor": "#2a3f5f"
            },
            "baxis": {
             "endlinecolor": "#2a3f5f",
             "gridcolor": "white",
             "linecolor": "white",
             "minorgridcolor": "white",
             "startlinecolor": "#2a3f5f"
            },
            "type": "carpet"
           }
          ],
          "choropleth": [
           {
            "colorbar": {
             "outlinewidth": 0,
             "ticks": ""
            },
            "type": "choropleth"
           }
          ],
          "contour": [
           {
            "colorbar": {
             "outlinewidth": 0,
             "ticks": ""
            },
            "colorscale": [
             [
              0,
              "#0d0887"
             ],
             [
              0.1111111111111111,
              "#46039f"
             ],
             [
              0.2222222222222222,
              "#7201a8"
             ],
             [
              0.3333333333333333,
              "#9c179e"
             ],
             [
              0.4444444444444444,
              "#bd3786"
             ],
             [
              0.5555555555555556,
              "#d8576b"
             ],
             [
              0.6666666666666666,
              "#ed7953"
             ],
             [
              0.7777777777777778,
              "#fb9f3a"
             ],
             [
              0.8888888888888888,
              "#fdca26"
             ],
             [
              1,
              "#f0f921"
             ]
            ],
            "type": "contour"
           }
          ],
          "contourcarpet": [
           {
            "colorbar": {
             "outlinewidth": 0,
             "ticks": ""
            },
            "type": "contourcarpet"
           }
          ],
          "heatmap": [
           {
            "colorbar": {
             "outlinewidth": 0,
             "ticks": ""
            },
            "colorscale": [
             [
              0,
              "#0d0887"
             ],
             [
              0.1111111111111111,
              "#46039f"
             ],
             [
              0.2222222222222222,
              "#7201a8"
             ],
             [
              0.3333333333333333,
              "#9c179e"
             ],
             [
              0.4444444444444444,
              "#bd3786"
             ],
             [
              0.5555555555555556,
              "#d8576b"
             ],
             [
              0.6666666666666666,
              "#ed7953"
             ],
             [
              0.7777777777777778,
              "#fb9f3a"
             ],
             [
              0.8888888888888888,
              "#fdca26"
             ],
             [
              1,
              "#f0f921"
             ]
            ],
            "type": "heatmap"
           }
          ],
          "heatmapgl": [
           {
            "colorbar": {
             "outlinewidth": 0,
             "ticks": ""
            },
            "colorscale": [
             [
              0,
              "#0d0887"
             ],
             [
              0.1111111111111111,
              "#46039f"
             ],
             [
              0.2222222222222222,
              "#7201a8"
             ],
             [
              0.3333333333333333,
              "#9c179e"
             ],
             [
              0.4444444444444444,
              "#bd3786"
             ],
             [
              0.5555555555555556,
              "#d8576b"
             ],
             [
              0.6666666666666666,
              "#ed7953"
             ],
             [
              0.7777777777777778,
              "#fb9f3a"
             ],
             [
              0.8888888888888888,
              "#fdca26"
             ],
             [
              1,
              "#f0f921"
             ]
            ],
            "type": "heatmapgl"
           }
          ],
          "histogram": [
           {
            "marker": {
             "pattern": {
              "fillmode": "overlay",
              "size": 10,
              "solidity": 0.2
             }
            },
            "type": "histogram"
           }
          ],
          "histogram2d": [
           {
            "colorbar": {
             "outlinewidth": 0,
             "ticks": ""
            },
            "colorscale": [
             [
              0,
              "#0d0887"
             ],
             [
              0.1111111111111111,
              "#46039f"
             ],
             [
              0.2222222222222222,
              "#7201a8"
             ],
             [
              0.3333333333333333,
              "#9c179e"
             ],
             [
              0.4444444444444444,
              "#bd3786"
             ],
             [
              0.5555555555555556,
              "#d8576b"
             ],
             [
              0.6666666666666666,
              "#ed7953"
             ],
             [
              0.7777777777777778,
              "#fb9f3a"
             ],
             [
              0.8888888888888888,
              "#fdca26"
             ],
             [
              1,
              "#f0f921"
             ]
            ],
            "type": "histogram2d"
           }
          ],
          "histogram2dcontour": [
           {
            "colorbar": {
             "outlinewidth": 0,
             "ticks": ""
            },
            "colorscale": [
             [
              0,
              "#0d0887"
             ],
             [
              0.1111111111111111,
              "#46039f"
             ],
             [
              0.2222222222222222,
              "#7201a8"
             ],
             [
              0.3333333333333333,
              "#9c179e"
             ],
             [
              0.4444444444444444,
              "#bd3786"
             ],
             [
              0.5555555555555556,
              "#d8576b"
             ],
             [
              0.6666666666666666,
              "#ed7953"
             ],
             [
              0.7777777777777778,
              "#fb9f3a"
             ],
             [
              0.8888888888888888,
              "#fdca26"
             ],
             [
              1,
              "#f0f921"
             ]
            ],
            "type": "histogram2dcontour"
           }
          ],
          "mesh3d": [
           {
            "colorbar": {
             "outlinewidth": 0,
             "ticks": ""
            },
            "type": "mesh3d"
           }
          ],
          "parcoords": [
           {
            "line": {
             "colorbar": {
              "outlinewidth": 0,
              "ticks": ""
             }
            },
            "type": "parcoords"
           }
          ],
          "pie": [
           {
            "automargin": true,
            "type": "pie"
           }
          ],
          "scatter": [
           {
            "fillpattern": {
             "fillmode": "overlay",
             "size": 10,
             "solidity": 0.2
            },
            "type": "scatter"
           }
          ],
          "scatter3d": [
           {
            "line": {
             "colorbar": {
              "outlinewidth": 0,
              "ticks": ""
             }
            },
            "marker": {
             "colorbar": {
              "outlinewidth": 0,
              "ticks": ""
             }
            },
            "type": "scatter3d"
           }
          ],
          "scattercarpet": [
           {
            "marker": {
             "colorbar": {
              "outlinewidth": 0,
              "ticks": ""
             }
            },
            "type": "scattercarpet"
           }
          ],
          "scattergeo": [
           {
            "marker": {
             "colorbar": {
              "outlinewidth": 0,
              "ticks": ""
             }
            },
            "type": "scattergeo"
           }
          ],
          "scattergl": [
           {
            "marker": {
             "colorbar": {
              "outlinewidth": 0,
              "ticks": ""
             }
            },
            "type": "scattergl"
           }
          ],
          "scattermapbox": [
           {
            "marker": {
             "colorbar": {
              "outlinewidth": 0,
              "ticks": ""
             }
            },
            "type": "scattermapbox"
           }
          ],
          "scatterpolar": [
           {
            "marker": {
             "colorbar": {
              "outlinewidth": 0,
              "ticks": ""
             }
            },
            "type": "scatterpolar"
           }
          ],
          "scatterpolargl": [
           {
            "marker": {
             "colorbar": {
              "outlinewidth": 0,
              "ticks": ""
             }
            },
            "type": "scatterpolargl"
           }
          ],
          "scatterternary": [
           {
            "marker": {
             "colorbar": {
              "outlinewidth": 0,
              "ticks": ""
             }
            },
            "type": "scatterternary"
           }
          ],
          "surface": [
           {
            "colorbar": {
             "outlinewidth": 0,
             "ticks": ""
            },
            "colorscale": [
             [
              0,
              "#0d0887"
             ],
             [
              0.1111111111111111,
              "#46039f"
             ],
             [
              0.2222222222222222,
              "#7201a8"
             ],
             [
              0.3333333333333333,
              "#9c179e"
             ],
             [
              0.4444444444444444,
              "#bd3786"
             ],
             [
              0.5555555555555556,
              "#d8576b"
             ],
             [
              0.6666666666666666,
              "#ed7953"
             ],
             [
              0.7777777777777778,
              "#fb9f3a"
             ],
             [
              0.8888888888888888,
              "#fdca26"
             ],
             [
              1,
              "#f0f921"
             ]
            ],
            "type": "surface"
           }
          ],
          "table": [
           {
            "cells": {
             "fill": {
              "color": "#EBF0F8"
             },
             "line": {
              "color": "white"
             }
            },
            "header": {
             "fill": {
              "color": "#C8D4E3"
             },
             "line": {
              "color": "white"
             }
            },
            "type": "table"
           }
          ]
         },
         "layout": {
          "annotationdefaults": {
           "arrowcolor": "#2a3f5f",
           "arrowhead": 0,
           "arrowwidth": 1
          },
          "autotypenumbers": "strict",
          "coloraxis": {
           "colorbar": {
            "outlinewidth": 0,
            "ticks": ""
           }
          },
          "colorscale": {
           "diverging": [
            [
             0,
             "#8e0152"
            ],
            [
             0.1,
             "#c51b7d"
            ],
            [
             0.2,
             "#de77ae"
            ],
            [
             0.3,
             "#f1b6da"
            ],
            [
             0.4,
             "#fde0ef"
            ],
            [
             0.5,
             "#f7f7f7"
            ],
            [
             0.6,
             "#e6f5d0"
            ],
            [
             0.7,
             "#b8e186"
            ],
            [
             0.8,
             "#7fbc41"
            ],
            [
             0.9,
             "#4d9221"
            ],
            [
             1,
             "#276419"
            ]
           ],
           "sequential": [
            [
             0,
             "#0d0887"
            ],
            [
             0.1111111111111111,
             "#46039f"
            ],
            [
             0.2222222222222222,
             "#7201a8"
            ],
            [
             0.3333333333333333,
             "#9c179e"
            ],
            [
             0.4444444444444444,
             "#bd3786"
            ],
            [
             0.5555555555555556,
             "#d8576b"
            ],
            [
             0.6666666666666666,
             "#ed7953"
            ],
            [
             0.7777777777777778,
             "#fb9f3a"
            ],
            [
             0.8888888888888888,
             "#fdca26"
            ],
            [
             1,
             "#f0f921"
            ]
           ],
           "sequentialminus": [
            [
             0,
             "#0d0887"
            ],
            [
             0.1111111111111111,
             "#46039f"
            ],
            [
             0.2222222222222222,
             "#7201a8"
            ],
            [
             0.3333333333333333,
             "#9c179e"
            ],
            [
             0.4444444444444444,
             "#bd3786"
            ],
            [
             0.5555555555555556,
             "#d8576b"
            ],
            [
             0.6666666666666666,
             "#ed7953"
            ],
            [
             0.7777777777777778,
             "#fb9f3a"
            ],
            [
             0.8888888888888888,
             "#fdca26"
            ],
            [
             1,
             "#f0f921"
            ]
           ]
          },
          "colorway": [
           "#636efa",
           "#EF553B",
           "#00cc96",
           "#ab63fa",
           "#FFA15A",
           "#19d3f3",
           "#FF6692",
           "#B6E880",
           "#FF97FF",
           "#FECB52"
          ],
          "font": {
           "color": "#2a3f5f"
          },
          "geo": {
           "bgcolor": "white",
           "lakecolor": "white",
           "landcolor": "#E5ECF6",
           "showlakes": true,
           "showland": true,
           "subunitcolor": "white"
          },
          "hoverlabel": {
           "align": "left"
          },
          "hovermode": "closest",
          "mapbox": {
           "style": "light"
          },
          "paper_bgcolor": "white",
          "plot_bgcolor": "#E5ECF6",
          "polar": {
           "angularaxis": {
            "gridcolor": "white",
            "linecolor": "white",
            "ticks": ""
           },
           "bgcolor": "#E5ECF6",
           "radialaxis": {
            "gridcolor": "white",
            "linecolor": "white",
            "ticks": ""
           }
          },
          "scene": {
           "xaxis": {
            "backgroundcolor": "#E5ECF6",
            "gridcolor": "white",
            "gridwidth": 2,
            "linecolor": "white",
            "showbackground": true,
            "ticks": "",
            "zerolinecolor": "white"
           },
           "yaxis": {
            "backgroundcolor": "#E5ECF6",
            "gridcolor": "white",
            "gridwidth": 2,
            "linecolor": "white",
            "showbackground": true,
            "ticks": "",
            "zerolinecolor": "white"
           },
           "zaxis": {
            "backgroundcolor": "#E5ECF6",
            "gridcolor": "white",
            "gridwidth": 2,
            "linecolor": "white",
            "showbackground": true,
            "ticks": "",
            "zerolinecolor": "white"
           }
          },
          "shapedefaults": {
           "line": {
            "color": "#2a3f5f"
           }
          },
          "ternary": {
           "aaxis": {
            "gridcolor": "white",
            "linecolor": "white",
            "ticks": ""
           },
           "baxis": {
            "gridcolor": "white",
            "linecolor": "white",
            "ticks": ""
           },
           "bgcolor": "#E5ECF6",
           "caxis": {
            "gridcolor": "white",
            "linecolor": "white",
            "ticks": ""
           }
          },
          "title": {
           "x": 0.05
          },
          "xaxis": {
           "automargin": true,
           "gridcolor": "white",
           "linecolor": "white",
           "ticks": "",
           "title": {
            "standoff": 15
           },
           "zerolinecolor": "white",
           "zerolinewidth": 2
          },
          "yaxis": {
           "automargin": true,
           "gridcolor": "white",
           "linecolor": "white",
           "ticks": "",
           "title": {
            "standoff": 15
           },
           "zerolinecolor": "white",
           "zerolinewidth": 2
          }
         }
        },
        "title": {
         "font": {
          "color": "white",
          "size": 18
         },
         "text": "H2 Ground State Energy (Bonding and Anti-Bonding WF) vs. R"
        },
        "width": 1200,
        "xaxis": {
         "gridcolor": "gray",
         "gridwidth": 1,
         "showgrid": true,
         "title": {
          "text": "Inter-proton distance R (Bohr)"
         }
        },
        "yaxis": {
         "gridcolor": "gray",
         "gridwidth": 1,
         "showgrid": true,
         "title": {
          "text": "Energy (Hartree)"
         }
        }
       }
      }
     },
     "metadata": {},
     "output_type": "display_data"
    }
   ],
   "source": [
    "fig = go.Figure()\n",
    "\n",
    "fig.add_trace(go.Scatter(\n",
    "    x=results_bonding_arr[:, 0],\n",
    "    y=results_bonding_arr[:, 1],\n",
    "    mode='lines+markers',\n",
    "    name='VMC Energy (Bonding)',\n",
    "    line=dict(color='royalblue')\n",
    "))\n",
    "\n",
    "fig.add_trace(go.Scatter(\n",
    "    x=results_anti_bonding_arr[:, 0],\n",
    "    y=results_anti_bonding_arr[:, 1],\n",
    "    mode='lines+markers',\n",
    "    name='VMC Energy (Anti-Bonding)',\n",
    "    line=dict(color='orange')\n",
    "))\n",
    "\n",
    "fig.add_trace(go.Scatter(\n",
    "    x=[R_values[0], R_values[-1]],\n",
    "    y=[-1.17460, -1.17460],\n",
    "    mode='lines',\n",
    "    name='Exact Ground State Energy (-1.1746 Ha)',\n",
    "    line=dict(color='red', dash='dash')\n",
    "))\n",
    "\n",
    "min_bonding_idx = np.argmin(results_bonding_arr[:, 1])\n",
    "min_bonding_R = results_bonding_arr[min_bonding_idx, 0]\n",
    "min_bonding_energy = results_bonding_arr[min_bonding_idx, 1]\n",
    "\n",
    "fig.add_trace(go.Scatter(\n",
    "    x=[min_bonding_R, min_bonding_R],\n",
    "    y=[min(results_bonding_arr[:, 1]), max(results_bonding_arr[:, 1])],\n",
    "    mode='lines',\n",
    "    name=f'Equilibrium Distance (Bonding) ({min_bonding_R:.2f} Bohr)',\n",
    "    line=dict(color='lime', dash='dot')\n",
    "))\n",
    "\n",
    "fig.add_trace(go.Scatter(\n",
    "    x=[R_values[0], R_values[-1]],\n",
    "    y=[min_bonding_energy, min_bonding_energy],\n",
    "    mode='lines',\n",
    "    name=f'Minimum Energy (Bonding) ({min_bonding_energy:.5f} Ha)',\n",
    "    line=dict(color='lime', dash='dot')\n",
    "))\n",
    "\n",
    "min_anti_bonding_idx = np.argmin(results_anti_bonding_arr[:, 1])\n",
    "min_anti_bonding_R = results_anti_bonding_arr[min_anti_bonding_idx, 0]\n",
    "min_anti_bonding_energy = results_anti_bonding_arr[min_anti_bonding_idx, 1]\n",
    "\n",
    "fig.add_trace(go.Scatter(\n",
    "    x=[min_anti_bonding_R, min_anti_bonding_R],\n",
    "    y=[min(results_anti_bonding_arr[:, 1]), max(results_anti_bonding_arr[:, 1])],\n",
    "    mode='lines',\n",
    "    name=f'Equilibrium Distance (Anti-Bonding) ({min_anti_bonding_R:.2f} Bohr)',\n",
    "    line=dict(color='cyan', dash='dot')\n",
    "))\n",
    "\n",
    "fig.add_trace(go.Scatter(\n",
    "    x=[R_values[0], R_values[-1]],\n",
    "    y=[min_anti_bonding_energy, min_anti_bonding_energy],\n",
    "    mode='lines',\n",
    "    name=f'Minimum Energy (Anti-Bonding) ({min_anti_bonding_energy:.5f} Ha)',\n",
    "    line=dict(color='cyan', dash='dot')\n",
    "))\n",
    "\n",
    "fig.update_layout(\n",
    "    title=\"H2 Ground State Energy (Bonding and Anti-Bonding WF) vs. R\",\n",
    "    xaxis_title=\"Inter-proton distance R (Bohr)\",\n",
    "    yaxis_title=\"Energy (Hartree)\",\n",
    "    width=1200, height=600, showlegend=True,\n",
    "    plot_bgcolor='black', paper_bgcolor='black', font=dict(color='white'),\n",
    "    title_font=dict(size=18, color='white'),\n",
    "    legend=dict(x=0.75, y=1, traceorder='normal', font=dict(size=12, color='white'), bgcolor='rgba(0, 0, 0, 0.5)'),\n",
    "    xaxis=dict(showgrid=True, gridwidth=1, gridcolor='gray'),\n",
    "    yaxis=dict(showgrid=True, gridwidth=1, gridcolor='gray')\n",
    ")\n",
    "\n",
    "fig.show()"
   ]
  },
  {
   "cell_type": "code",
   "execution_count": null,
   "id": "7892325e",
   "metadata": {},
   "outputs": [],
   "source": []
  }
 ],
 "metadata": {
  "kernelspec": {
   "display_name": "base",
   "language": "python",
   "name": "python3"
  },
  "language_info": {
   "codemirror_mode": {
    "name": "ipython",
    "version": 3
   },
   "file_extension": ".py",
   "mimetype": "text/x-python",
   "name": "python",
   "nbconvert_exporter": "python",
   "pygments_lexer": "ipython3",
   "version": "3.12.7"
  }
 },
 "nbformat": 4,
 "nbformat_minor": 5
}
